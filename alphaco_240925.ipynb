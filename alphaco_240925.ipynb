{
  "cells": [
    {
      "cell_type": "markdown",
      "metadata": {
        "id": "view-in-github",
        "colab_type": "text"
      },
      "source": [
        "<a href=\"https://colab.research.google.com/github/xuxaraxha/alphaco/blob/main/alphaco_240925.ipynb\" target=\"_parent\"><img src=\"https://colab.research.google.com/assets/colab-badge.svg\" alt=\"Open In Colab\"/></a>"
      ]
    },
    {
      "cell_type": "markdown",
      "id": "8406fadf-d582-49ed-8fdd-df72460f4923",
      "metadata": {
        "id": "8406fadf-d582-49ed-8fdd-df72460f4923"
      },
      "source": [
        "# 제어문 & 반복문"
      ]
    },
    {
      "cell_type": "markdown",
      "id": "4253d696-61d7-432d-ae7f-b42b4539b8af",
      "metadata": {
        "id": "4253d696-61d7-432d-ae7f-b42b4539b8af"
      },
      "source": [
        "## 단일 조건에 따른 분기"
      ]
    },
    {
      "cell_type": "code",
      "execution_count": null,
      "id": "d8e7ca50-1b3d-4c1b-9f17-698fa7680852",
      "metadata": {
        "id": "d8e7ca50-1b3d-4c1b-9f17-698fa7680852",
        "outputId": "cccb2a8c-5ec0-4b7c-b8ac-69a6a47173ea"
      },
      "outputs": [
        {
          "name": "stdin",
          "output_type": "stream",
          "text": [
            "숫자를 입력하세요.. 95\n"
          ]
        },
        {
          "name": "stdout",
          "output_type": "stream",
          "text": [
            "Pass\n"
          ]
        }
      ],
      "source": [
        "x = int(input(\"숫자를 입력하세요..\"))\n",
        "if x >= 90:\n",
        "    print(\"Pass\")"
      ]
    },
    {
      "cell_type": "markdown",
      "id": "9ab21418-bf0c-4c0a-8287-429a65e742f1",
      "metadata": {
        "id": "9ab21418-bf0c-4c0a-8287-429a65e742f1"
      },
      "source": [
        "## 단일 조건 및 그 외 조건에 따른 분기"
      ]
    },
    {
      "cell_type": "code",
      "execution_count": null,
      "id": "77383501-dffb-41ec-9b74-4ac288ee062c",
      "metadata": {
        "id": "77383501-dffb-41ec-9b74-4ac288ee062c",
        "outputId": "3b7a534c-b2e5-4a2c-ea46-8df17b2b7e7a"
      },
      "outputs": [
        {
          "name": "stdin",
          "output_type": "stream",
          "text": [
            "숫자를 입력하세요.. 50\n"
          ]
        },
        {
          "name": "stdout",
          "output_type": "stream",
          "text": [
            "Fail\n"
          ]
        }
      ],
      "source": [
        "x = int(input(\"숫자를 입력하세요..\"))\n",
        "if x >= 90:\n",
        "    print(\"Pass\")\n",
        "else:\n",
        "    print(\"Fail\")"
      ]
    },
    {
      "cell_type": "markdown",
      "id": "78f40b5c-5908-481b-84a6-16878cca2be2",
      "metadata": {
        "id": "78f40b5c-5908-481b-84a6-16878cca2be2"
      },
      "source": [
        "## 여러 조건에 따른 분기"
      ]
    },
    {
      "cell_type": "code",
      "execution_count": null,
      "id": "5ddca988-8ead-43f0-8a46-67d150bd2a55",
      "metadata": {
        "id": "5ddca988-8ead-43f0-8a46-67d150bd2a55",
        "outputId": "aa12ed23-3f70-46c7-ed78-aaaa36236837"
      },
      "outputs": [
        {
          "name": "stdout",
          "output_type": "stream",
          "text": [
            "False\n"
          ]
        }
      ],
      "source": [
        "x = 70\n",
        "print((x >= 80) and (x < 90))\n",
        "if (x >= 80) and (x < 90):\n",
        "    print(\"조건부 합격\")"
      ]
    },
    {
      "cell_type": "code",
      "execution_count": null,
      "id": "971ae271-8e27-4a37-8237-036f42375703",
      "metadata": {
        "id": "971ae271-8e27-4a37-8237-036f42375703",
        "outputId": "998f52e7-be29-4fcc-c6b2-79827d93edee"
      },
      "outputs": [
        {
          "name": "stdin",
          "output_type": "stream",
          "text": [
            "숫자를 입력하세요.. 85\n"
          ]
        },
        {
          "name": "stdout",
          "output_type": "stream",
          "text": [
            "조건부 합격\n"
          ]
        }
      ],
      "source": [
        "x = int(input(\"숫자를 입력하세요..\"))\n",
        "if x >= 90:\n",
        "    print(\"Pass\")\n",
        "elif (x >= 80) and (x < 90):\n",
        "    print(\"조건부 합격\")\n",
        "else:\n",
        "    print(\"Fail\")"
      ]
    },
    {
      "cell_type": "markdown",
      "id": "b878f51f-e678-425d-ba60-dcbbc6e096df",
      "metadata": {
        "id": "b878f51f-e678-425d-ba60-dcbbc6e096df"
      },
      "source": [
        "## 중첩 조건에 따른 분기\n",
        "- 시나리오\n",
        "- 90점 넘으면 합격, 그 중에서 100점자에는 장학금 지급\n",
        "- 80점 이상은 조건부 합격\n",
        "- 그 외는 탈락"
      ]
    },
    {
      "cell_type": "code",
      "execution_count": null,
      "id": "bbbe0974-5db7-456d-bbad-f3c5481f2a36",
      "metadata": {
        "id": "bbbe0974-5db7-456d-bbad-f3c5481f2a36",
        "outputId": "9cd1fce4-0db3-4cea-a4d3-5b1d536d9703"
      },
      "outputs": [
        {
          "name": "stdin",
          "output_type": "stream",
          "text": [
            "숫자를 입력하세요.. 91\n"
          ]
        },
        {
          "name": "stdout",
          "output_type": "stream",
          "text": [
            "Pass\n"
          ]
        }
      ],
      "source": [
        "x = int(input(\"숫자를 입력하세요..\"))\n",
        "if x >= 90:\n",
        "    if x == 100:\n",
        "        print(\"장학금 지급\")\n",
        "    else:\n",
        "        print(\"Pass\")\n",
        "elif (x >= 80) and (x < 90):\n",
        "    print(\"조건부 합격\")\n",
        "else:\n",
        "    print(\"Fail\")"
      ]
    },
    {
      "cell_type": "markdown",
      "id": "d94e911f-5752-4cac-8df2-88cee4207355",
      "metadata": {
        "id": "d94e911f-5752-4cac-8df2-88cee4207355"
      },
      "source": [
        "# 반복문"
      ]
    },
    {
      "cell_type": "code",
      "execution_count": null,
      "id": "3fc025de-b9e7-453d-bdec-8aa2194757a9",
      "metadata": {
        "id": "3fc025de-b9e7-453d-bdec-8aa2194757a9",
        "outputId": "94aea535-125d-44f0-bd03-26e91dc476ef"
      },
      "outputs": [
        {
          "name": "stdout",
          "output_type": "stream",
          "text": [
            "안녕하세요\n",
            "안녕하세요\n",
            "안녕하세요\n"
          ]
        }
      ],
      "source": [
        "for i in range(3):\n",
        "    print(\"안녕하세요\")"
      ]
    },
    {
      "cell_type": "markdown",
      "id": "e1cf2049-f85a-4a11-9187-1a28b40ab117",
      "metadata": {
        "id": "e1cf2049-f85a-4a11-9187-1a28b40ab117"
      },
      "source": [
        "- 시퀀스 자료형이 range 대신에 들어감"
      ]
    },
    {
      "cell_type": "code",
      "execution_count": null,
      "id": "a60499f4-b256-48f5-9066-7971040f85c3",
      "metadata": {
        "id": "a60499f4-b256-48f5-9066-7971040f85c3",
        "outputId": "09c86bfe-972e-437a-b6bd-c94fa4a4ea32"
      },
      "outputs": [
        {
          "name": "stdout",
          "output_type": "stream",
          "text": [
            "False\n",
            "True\n",
            "True\n"
          ]
        }
      ],
      "source": [
        "from collections.abc import Sequence\n",
        "\n",
        "my_num = 100\n",
        "my_list = [1, 2, 3]\n",
        "my_string = \"hello\"\n",
        "\n",
        "is_num = isinstance(my_num, Sequence)\n",
        "is_list = isinstance(my_list, Sequence)\n",
        "is_string = isinstance(my_string, Sequence)\n",
        "\n",
        "print(is_num)\n",
        "print(is_list)\n",
        "print(is_string)"
      ]
    },
    {
      "cell_type": "code",
      "execution_count": null,
      "id": "15d753b3-7b9c-459f-bae2-c441299793a0",
      "metadata": {
        "id": "15d753b3-7b9c-459f-bae2-c441299793a0",
        "outputId": "39c5813d-745c-4b62-a4ab-fbd8478a63a2"
      },
      "outputs": [
        {
          "name": "stdout",
          "output_type": "stream",
          "text": [
            "1\n",
            "2\n",
            "3\n"
          ]
        }
      ],
      "source": [
        "for i in my_list:\n",
        "    print(i)"
      ]
    },
    {
      "cell_type": "code",
      "execution_count": null,
      "id": "ca8fc585-e315-45ed-81ae-646745647be4",
      "metadata": {
        "id": "ca8fc585-e315-45ed-81ae-646745647be4",
        "outputId": "f98cee5d-53de-481d-b919-f8fd8bb79bd8"
      },
      "outputs": [
        {
          "name": "stdout",
          "output_type": "stream",
          "text": [
            "h\n",
            "e\n",
            "l\n",
            "l\n",
            "o\n"
          ]
        }
      ],
      "source": [
        "for i in my_string:\n",
        "    print(i)"
      ]
    },
    {
      "cell_type": "code",
      "execution_count": null,
      "id": "ba9971fc-b521-4e35-93b9-f11620fde7bb",
      "metadata": {
        "id": "ba9971fc-b521-4e35-93b9-f11620fde7bb",
        "outputId": "5ebf1b9c-fa2a-4ed5-9051-3f6fd1d0dcea"
      },
      "outputs": [
        {
          "data": {
            "text/plain": [
              "[0, 1, 2]"
            ]
          },
          "execution_count": 25,
          "metadata": {},
          "output_type": "execute_result"
        }
      ],
      "source": [
        "list(range(3))"
      ]
    },
    {
      "cell_type": "markdown",
      "id": "d4b0e641-c9de-4f0f-8541-d4d92a65828f",
      "metadata": {
        "id": "d4b0e641-c9de-4f0f-8541-d4d92a65828f"
      },
      "source": [
        "## 중첩 for문\n",
        "- 구구단 중첩 for문 만들어주세용"
      ]
    },
    {
      "cell_type": "code",
      "execution_count": null,
      "id": "57eb8c09-ac66-4bf7-8f94-c836e95bb5fd",
      "metadata": {
        "id": "57eb8c09-ac66-4bf7-8f94-c836e95bb5fd",
        "outputId": "70a0722a-522c-4ce2-bc5f-5a033e9b0f83"
      },
      "outputs": [
        {
          "name": "stdout",
          "output_type": "stream",
          "text": [
            "x y\n",
            "x1\n",
            "x1 y1\n",
            "x1 y2\n",
            "y 반복문 종료\n",
            "x2\n",
            "x2 y1\n",
            "x2 y2\n",
            "y 반복문 종료\n"
          ]
        }
      ],
      "source": [
        "x_list = [\"x1\", \"x2\"]\n",
        "y_list = [\"y1\", \"y2\"]\n",
        "\n",
        "print(\"x y\")\n",
        "for x in x_list:\n",
        "    print(x)\n",
        "    for y in y_list:\n",
        "        print(x, y)\n",
        "    print(\"y 반복문 종료\")"
      ]
    },
    {
      "cell_type": "markdown",
      "id": "9c417f06-0684-4a49-8079-5dd56cd55714",
      "metadata": {
        "id": "9c417f06-0684-4a49-8079-5dd56cd55714"
      },
      "source": [
        "## 여러 개의 리스트 다루기"
      ]
    },
    {
      "cell_type": "code",
      "execution_count": null,
      "id": "6342bb36-3d62-4c3a-827c-95c09672a6c3",
      "metadata": {
        "id": "6342bb36-3d62-4c3a-827c-95c09672a6c3",
        "outputId": "73fc3f7d-ddbe-4819-b91e-4a6b30e5e046"
      },
      "outputs": [
        {
          "name": "stdout",
          "output_type": "stream",
          "text": [
            "James 95\n",
            "Robert 96\n",
            "Lisa 97\n",
            "Mary 94\n"
          ]
        }
      ],
      "source": [
        "names = ['James', 'Robert', 'Lisa', 'Mary']\n",
        "scores = [95, 96, 97, 94]\n",
        "\n",
        "print(names[0], scores[0])\n",
        "print(names[1], scores[1])\n",
        "print(names[2], scores[2])\n",
        "print(names[3], scores[3])"
      ]
    },
    {
      "cell_type": "code",
      "execution_count": null,
      "id": "3994968e-3d55-4ec5-95a9-e7f8c80b4e44",
      "metadata": {
        "id": "3994968e-3d55-4ec5-95a9-e7f8c80b4e44",
        "outputId": "b8586b5b-88b0-429e-a5cf-b9b7349c1657"
      },
      "outputs": [
        {
          "name": "stdout",
          "output_type": "stream",
          "text": [
            "James 95\n",
            "Robert 96\n",
            "Lisa 97\n",
            "Mary 94\n"
          ]
        }
      ],
      "source": [
        "names = ['James', 'Robert', 'Lisa', 'Mary']\n",
        "scores = [95, 96, 97, 94]\n",
        "\n",
        "# idx : index 번호\n",
        "for idx in range(len(names)):\n",
        "    # print(idx)\n",
        "    print(names[idx], scores[idx])\n"
      ]
    },
    {
      "cell_type": "markdown",
      "id": "e4b7b6dd-e665-41ae-ba20-c9a116a561f7",
      "metadata": {
        "id": "e4b7b6dd-e665-41ae-ba20-c9a116a561f7"
      },
      "source": [
        "## 리스트 컴프리헨션"
      ]
    },
    {
      "cell_type": "code",
      "execution_count": null,
      "id": "8ac45930-172a-4864-aa0e-25dcbf7852e7",
      "metadata": {
        "id": "8ac45930-172a-4864-aa0e-25dcbf7852e7",
        "outputId": "6dbf5466-d809-4f78-d6fa-03ccb6db5c52"
      },
      "outputs": [
        {
          "name": "stdout",
          "output_type": "stream",
          "text": [
            "[2, 4, 6, 8, 10]\n"
          ]
        }
      ],
      "source": [
        "numbers = [1, 2, 3, 4, 5]\n",
        "result = []\n",
        "for x in numbers:\n",
        "    # 각 요소마다 곱하기 2\n",
        "    # print(x * 2)\n",
        "    result.append(x * 2)\n",
        "\n",
        "print(result)\n",
        "# [2, 4, 6, 8, 10]"
      ]
    },
    {
      "cell_type": "code",
      "execution_count": null,
      "id": "dc09f961-08cd-442f-b3ff-bc6e5d478a95",
      "metadata": {
        "id": "dc09f961-08cd-442f-b3ff-bc6e5d478a95",
        "outputId": "9931bb40-3d72-42fb-a942-2b7b3e6550c9"
      },
      "outputs": [
        {
          "name": "stdout",
          "output_type": "stream",
          "text": [
            "[2, 4, 6, 8, 10]\n"
          ]
        }
      ],
      "source": [
        "numbers = [1, 2, 3, 4, 5]\n",
        "result2 = [x * 2 for x in numbers]\n",
        "print(result2)"
      ]
    },
    {
      "cell_type": "code",
      "execution_count": null,
      "id": "3a509431-e7bf-45c9-ad3b-dfe580ceb54f",
      "metadata": {
        "id": "3a509431-e7bf-45c9-ad3b-dfe580ceb54f",
        "outputId": "dbaca84b-1005-4a07-b716-50a2ad9836b4"
      },
      "outputs": [
        {
          "data": {
            "text/plain": [
              "[2, 4, 6]"
            ]
          },
          "execution_count": 41,
          "metadata": {},
          "output_type": "execute_result"
        }
      ],
      "source": [
        "numbers = [1, 2, 3, 4, 5, 6]\n",
        "result = []\n",
        "for x in numbers:\n",
        "    if x % 2 == 0:\n",
        "        result.append(x)\n",
        "result"
      ]
    },
    {
      "cell_type": "code",
      "execution_count": null,
      "id": "8736fb6b-069f-46cc-a030-5ade42b9cce2",
      "metadata": {
        "id": "8736fb6b-069f-46cc-a030-5ade42b9cce2",
        "outputId": "e772c42b-e9a3-42e7-a71c-48363cd71a58"
      },
      "outputs": [
        {
          "data": {
            "text/plain": [
              "[2, 4, 6]"
            ]
          },
          "execution_count": 43,
          "metadata": {},
          "output_type": "execute_result"
        }
      ],
      "source": [
        "# 짝수만 출력하세요\n",
        "numbers = [1, 2, 3, 4, 5, 6]\n",
        "result2 =  [x for x in numbers if x % 2 == 0]\n",
        "result2"
      ]
    },
    {
      "cell_type": "markdown",
      "id": "ac1d5914-792e-4f6a-8d6e-e1cbdafacad8",
      "metadata": {
        "id": "ac1d5914-792e-4f6a-8d6e-e1cbdafacad8"
      },
      "source": [
        "## while 반복문\n",
        "- 조건문이 참일 때만 반복해서 실행\n",
        "- 데이터 분석 : 데이터셋이 정해져 있음\n",
        "  + 행과 열이 고정이 되어 있음\n",
        "  + 범위가 주어진 상태"
      ]
    },
    {
      "cell_type": "code",
      "execution_count": null,
      "id": "5662d457-ef8e-43ae-9063-bd7c987aeaeb",
      "metadata": {
        "id": "5662d457-ef8e-43ae-9063-bd7c987aeaeb",
        "outputId": "77e7703f-6234-4e54-e205-77de3aaab48e"
      },
      "outputs": [
        {
          "name": "stdout",
          "output_type": "stream",
          "text": [
            "1 1\n",
            "2 3\n",
            "3 6\n",
            "4 10\n",
            "5 15\n",
            "6 21\n"
          ]
        }
      ],
      "source": [
        "i = 0\n",
        "total = 0\n",
        "\n",
        "while (total < 20):\n",
        "    i = i + 1           # ==> i = 1, ==> i = 2\n",
        "    total = total + i   # ==> total = 1 + 2 ==> 3\n",
        "    print(i, total)"
      ]
    },
    {
      "cell_type": "code",
      "execution_count": null,
      "id": "c8d7853e-2ea6-45f2-a7cb-fa6dd3a0a011",
      "metadata": {
        "id": "c8d7853e-2ea6-45f2-a7cb-fa6dd3a0a011",
        "outputId": "8656bca4-5f58-4de0-c88f-aeb817eabaee"
      },
      "outputs": [
        {
          "name": "stdout",
          "output_type": "stream",
          "text": [
            "안녕하세요\n",
            "안녕하세요\n",
            "안녕하세요\n",
            "안녕하세요\n",
            "4\n"
          ]
        }
      ],
      "source": [
        "k = 0\n",
        "while True:\n",
        "    k = k + 1 # k는 1씩 증가\n",
        "    print(\"안녕하세요\")\n",
        "    if (k > 3):\n",
        "        print(k)\n",
        "        break     # while / for-loop 문에서 강제적으로 종료시킬 때\n",
        ""
      ]
    },
    {
      "cell_type": "markdown",
      "id": "8b7c4979-bb01-4b08-a5aa-4dd893151078",
      "metadata": {
        "id": "8b7c4979-bb01-4b08-a5aa-4dd893151078"
      },
      "source": [
        "# 사용자 정의 함수"
      ]
    },
    {
      "cell_type": "code",
      "execution_count": null,
      "id": "54db47fe-4a63-4896-ad75-59dd0891666c",
      "metadata": {
        "id": "54db47fe-4a63-4896-ad75-59dd0891666c"
      },
      "outputs": [],
      "source": [
        "def my_1st_func():\n",
        "    print(\"안녕하세요\")\n",
        "    print(\"반갑습니다\")"
      ]
    },
    {
      "cell_type": "code",
      "execution_count": null,
      "id": "3febb8e0-3a52-45ae-aa1e-00668d7a49b1",
      "metadata": {
        "id": "3febb8e0-3a52-45ae-aa1e-00668d7a49b1",
        "outputId": "734e0a91-c859-4183-fdb1-3817192ee437"
      },
      "outputs": [
        {
          "name": "stdout",
          "output_type": "stream",
          "text": [
            "안녕하세요\n",
            "반갑습니다\n"
          ]
        }
      ],
      "source": [
        "my_1st_func()"
      ]
    },
    {
      "cell_type": "code",
      "execution_count": null,
      "id": "fef8ccad-b199-43de-a606-47489b510da2",
      "metadata": {
        "id": "fef8ccad-b199-43de-a606-47489b510da2",
        "outputId": "483fded8-c699-4952-a638-3b773f3a7e37"
      },
      "outputs": [
        {
          "name": "stdout",
          "output_type": "stream",
          "text": [
            "안녕하세요\n",
            "반갑습니다\n",
            "안녕하세요\n",
            "반갑습니다\n",
            "안녕하세요\n",
            "반갑습니다\n",
            "3\n"
          ]
        }
      ],
      "source": [
        "k = 0\n",
        "while True:\n",
        "    k = k + 1 # k는 1씩 증가\n",
        "    my_1st_func()\n",
        "    if (k > 2):\n",
        "        print(k)\n",
        "        break     # while / for-loop 문에서 강제적으로 종료시킬 때"
      ]
    },
    {
      "cell_type": "code",
      "execution_count": null,
      "id": "ddb81df2-1cc5-4dbd-874e-6bfcb8268891",
      "metadata": {
        "id": "ddb81df2-1cc5-4dbd-874e-6bfcb8268891",
        "outputId": "e0b87df9-287a-4270-8f87-f727829903ab"
      },
      "outputs": [
        {
          "name": "stdout",
          "output_type": "stream",
          "text": [
            "안녕하세요\n",
            "반갑습니다\n",
            "안녕하세요\n",
            "반갑습니다\n",
            "안녕하세요\n",
            "반갑습니다\n",
            "안녕하세요\n",
            "반갑습니다\n",
            "안녕하세요\n",
            "반갑습니다\n",
            "안녕하세요\n",
            "반갑습니다\n"
          ]
        },
        {
          "data": {
            "text/plain": [
              "[2, 4, 6]"
            ]
          },
          "execution_count": 7,
          "metadata": {},
          "output_type": "execute_result"
        }
      ],
      "source": [
        "numbers = [1, 2, 3, 4, 5, 6]\n",
        "result = []\n",
        "for x in numbers:\n",
        "    my_1st_func()\n",
        "    if x % 2 == 0:\n",
        "        result.append(x)\n",
        "result"
      ]
    },
    {
      "cell_type": "markdown",
      "id": "4bf81e2b-aadf-49f4-88e1-75155ca89e35",
      "metadata": {
        "id": "4bf81e2b-aadf-49f4-88e1-75155ca89e35"
      },
      "source": [
        "## 인자(인수)는 있으나 반환 값이 없는 함수"
      ]
    },
    {
      "cell_type": "code",
      "execution_count": null,
      "id": "7f9e0edb-72ee-4884-96b3-dc6460a02b2a",
      "metadata": {
        "id": "7f9e0edb-72ee-4884-96b3-dc6460a02b2a",
        "outputId": "a265552e-24e2-4e67-9323-35ca8cbaddca"
      },
      "outputs": [
        {
          "name": "stdout",
          "output_type": "stream",
          "text": [
            "철수는 나의 친구입니다\n",
            "철수는 나의 친구입니다\n",
            "길동는 나의 친구입니다\n",
            "길동는 나의 친구입니다\n"
          ]
        }
      ],
      "source": [
        "def my_friend(name):\n",
        "    print(f\"{name}는 나의 친구입니다\")\n",
        "    print(\"{}는 나의 친구입니다\".format(name))\n",
        "\n",
        "my_friend(\"철수\")\n",
        "my_friend(\"길동\")"
      ]
    },
    {
      "cell_type": "code",
      "execution_count": null,
      "id": "27faf6b4-1988-4923-9428-e7b85085d0d5",
      "metadata": {
        "id": "27faf6b4-1988-4923-9428-e7b85085d0d5",
        "outputId": "036cb3cd-ee05-4246-911e-5d02d278185e"
      },
      "outputs": [
        {
          "name": "stdout",
          "output_type": "stream",
          "text": [
            "영희는 나의 친구입니다\n",
            "영희는 나의 친구입니다\n"
          ]
        }
      ],
      "source": [
        "my_friend(\"영희\")"
      ]
    },
    {
      "cell_type": "markdown",
      "id": "d61ab35d-4a30-458c-a9e2-fd01ec03a8b5",
      "metadata": {
        "id": "d61ab35d-4a30-458c-a9e2-fd01ec03a8b5"
      },
      "source": [
        "## 인자(인수)는 있으나 반환 값이 있는 함수\n",
        "- 코드 문서화 필수"
      ]
    },
    {
      "cell_type": "code",
      "execution_count": null,
      "id": "8f2a6c84-1769-4340-9103-89fd3f7f1db7",
      "metadata": {
        "id": "8f2a6c84-1769-4340-9103-89fd3f7f1db7"
      },
      "outputs": [],
      "source": [
        "def my_calc(x, y):\n",
        "    z = x * y\n",
        "    return z"
      ]
    },
    {
      "cell_type": "code",
      "execution_count": null,
      "id": "eade1657-7dfd-4786-9c42-b52d74f8018e",
      "metadata": {
        "id": "eade1657-7dfd-4786-9c42-b52d74f8018e",
        "outputId": "3a686564-60af-4c21-d4f6-42475d49c560"
      },
      "outputs": [
        {
          "data": {
            "text/plain": [
              "12"
            ]
          },
          "execution_count": 16,
          "metadata": {},
          "output_type": "execute_result"
        }
      ],
      "source": [
        "my_calc(3, 4)"
      ]
    },
    {
      "cell_type": "markdown",
      "id": "5a515584-66f0-4379-bee9-7c7d51922900",
      "metadata": {
        "id": "5a515584-66f0-4379-bee9-7c7d51922900"
      },
      "source": [
        "## 변수의 유효 범위\n",
        "- 키워드 : 전역 변수, 지역 변수"
      ]
    },
    {
      "cell_type": "code",
      "execution_count": null,
      "id": "7318f9bb-3763-4dc4-9ed4-fb701c9dd1ea",
      "metadata": {
        "id": "7318f9bb-3763-4dc4-9ed4-fb701c9dd1ea"
      },
      "outputs": [],
      "source": [
        "a = 5           # 전역 변수\n",
        "\n",
        "def func1():\n",
        "    a = 1       # 지역 변수\n",
        "    print(\"[func1] 지역 변수 a =\", a)\n",
        "\n",
        "def func2():\n",
        "    a = 2       # 지역 변수\n",
        "    print(\"[func2] 지역 변수 a =\", a)\n",
        "\n",
        "def func3():\n",
        "    print(\"[func3] 지역 변수 a =\", a)\n",
        "\n",
        "def func4():\n",
        "    global a # 함수 내에서 전역 변수 변경 위해 선언\n",
        "    a = 4\n",
        "    print(\"[func4] 전역 변수 a = \", a)"
      ]
    },
    {
      "cell_type": "code",
      "execution_count": null,
      "id": "24298ceb-0f82-47c1-9b24-0b4e1d883832",
      "metadata": {
        "id": "24298ceb-0f82-47c1-9b24-0b4e1d883832",
        "outputId": "c052aa0a-f693-49c3-fbd5-b2b3f8897275"
      },
      "outputs": [
        {
          "name": "stdout",
          "output_type": "stream",
          "text": [
            "[func1] 지역 변수 a = 1\n",
            "[func2] 지역 변수 a = 2\n",
            "[func3] 지역 변수 a = 5\n"
          ]
        }
      ],
      "source": [
        "func1()\n",
        "func2()\n",
        "func3()"
      ]
    },
    {
      "cell_type": "code",
      "execution_count": null,
      "id": "621998bf-c7ac-4c16-ac9d-67011b3ec30c",
      "metadata": {
        "id": "621998bf-c7ac-4c16-ac9d-67011b3ec30c",
        "outputId": "6e1ca2a8-8576-4734-faa1-8b077d0b9f66"
      },
      "outputs": [
        {
          "name": "stdout",
          "output_type": "stream",
          "text": [
            "[func1] 지역 변수 a = 1\n",
            "[func2] 지역 변수 a = 2\n",
            "전역 변수 a= 5\n"
          ]
        }
      ],
      "source": [
        "func1()\n",
        "func2()\n",
        "print(\"전역 변수 a=\", a) # 전역 변수 출력"
      ]
    },
    {
      "cell_type": "code",
      "execution_count": null,
      "id": "cbf67cbe-ae4f-48dc-8103-b60001bdebdc",
      "metadata": {
        "id": "cbf67cbe-ae4f-48dc-8103-b60001bdebdc",
        "outputId": "b0ea19be-9419-4444-edf6-32e753bb56a8"
      },
      "outputs": [
        {
          "name": "stdout",
          "output_type": "stream",
          "text": [
            "[func3] 지역 변수 a = 5\n",
            "[func4] 전역 변수 a =  4\n",
            "[func3] 지역 변수 a = 4\n"
          ]
        }
      ],
      "source": [
        "func3()\n",
        "func4()\n",
        "func3()"
      ]
    },
    {
      "cell_type": "code",
      "execution_count": null,
      "id": "e1c80c03-5cf8-4003-86fd-889929088910",
      "metadata": {
        "id": "e1c80c03-5cf8-4003-86fd-889929088910",
        "outputId": "ae8d2830-602e-4246-9d40-3beefb9b42d9"
      },
      "outputs": [
        {
          "ename": "UnboundLocalError",
          "evalue": "cannot access local variable 'c' where it is not associated with a value",
          "output_type": "error",
          "traceback": [
            "\u001b[1;31m---------------------------------------------------------------------------\u001b[0m",
            "\u001b[1;31mUnboundLocalError\u001b[0m                         Traceback (most recent call last)",
            "Cell \u001b[1;32mIn[27], line 7\u001b[0m\n\u001b[0;32m      5\u001b[0m     c \u001b[38;5;241m=\u001b[39m c \u001b[38;5;241m+\u001b[39m \u001b[38;5;241m2\u001b[39m\n\u001b[0;32m      6\u001b[0m     \u001b[38;5;28mprint\u001b[39m(c)\n\u001b[1;32m----> 7\u001b[0m \u001b[43madd\u001b[49m\u001b[43m(\u001b[49m\u001b[43m)\u001b[49m\n",
            "Cell \u001b[1;32mIn[27], line 5\u001b[0m, in \u001b[0;36madd\u001b[1;34m()\u001b[0m\n\u001b[0;32m      3\u001b[0m \u001b[38;5;28;01mdef\u001b[39;00m \u001b[38;5;21madd\u001b[39m():\n\u001b[0;32m      4\u001b[0m     \u001b[38;5;66;03m# global c\u001b[39;00m\n\u001b[1;32m----> 5\u001b[0m     c \u001b[38;5;241m=\u001b[39m \u001b[43mc\u001b[49m \u001b[38;5;241m+\u001b[39m \u001b[38;5;241m2\u001b[39m\n\u001b[0;32m      6\u001b[0m     \u001b[38;5;28mprint\u001b[39m(c)\n",
            "\u001b[1;31mUnboundLocalError\u001b[0m: cannot access local variable 'c' where it is not associated with a value"
          ]
        }
      ],
      "source": [
        "c = 1\n",
        "\n",
        "def add():\n",
        "    # global c\n",
        "    c = c + 2\n",
        "    print(c)\n",
        "add()"
      ]
    },
    {
      "cell_type": "markdown",
      "id": "a5a2ce6f-ee47-42f9-a8c8-6170257675f1",
      "metadata": {
        "id": "a5a2ce6f-ee47-42f9-a8c8-6170257675f1"
      },
      "source": [
        "## 가변인수 예제\n",
        "- 학생의 점수를 입력받아 평균 점수를 계산하는 함수\n",
        "  + 문제점 : 각 학생들마다 시험 본 과목수가 다 다름\n",
        "    - A : 3과목\n",
        "    - B : 2과목\n",
        "    - C : 5과목"
      ]
    },
    {
      "cell_type": "code",
      "execution_count": null,
      "id": "f71d17ba-e6f9-49bc-8cf9-3d956febaa28",
      "metadata": {
        "id": "f71d17ba-e6f9-49bc-8cf9-3d956febaa28"
      },
      "outputs": [],
      "source": [
        "def calculate_average(name, *scores):\n",
        "    print(type(scores))\n",
        "    if scores:  # 가변 인수가 비어있지 않은지 확인\n",
        "        average_score = sum(scores) / len(scores)\n",
        "        print(f\"{name}의 평균 점수는 {average_score:.2f}점입니다.\")\n",
        "    else:\n",
        "        print(f\"{name}의 점수를 입력하지 않았습니다.\")"
      ]
    },
    {
      "cell_type": "code",
      "execution_count": null,
      "id": "bf1029e0-f188-4dfc-b0a3-7dd2ee6d30a1",
      "metadata": {
        "id": "bf1029e0-f188-4dfc-b0a3-7dd2ee6d30a1",
        "outputId": "b3297804-cc5a-4c2c-b6f0-7d300cbc0beb"
      },
      "outputs": [
        {
          "name": "stdout",
          "output_type": "stream",
          "text": [
            "<class 'tuple'>\n",
            "Evan의 평균 점수는 82.00점입니다.\n"
          ]
        }
      ],
      "source": [
        "calculate_average(\"Evan\", 85, 70, 75, 100, 80)"
      ]
    },
    {
      "cell_type": "code",
      "execution_count": null,
      "id": "4413bc92-badf-4cfd-a42e-86e3bb5e4867",
      "metadata": {
        "id": "4413bc92-badf-4cfd-a42e-86e3bb5e4867",
        "outputId": "ef7cc7a8-9a4a-4310-9dcc-d44387be6eab"
      },
      "outputs": [
        {
          "name": "stdout",
          "output_type": "stream",
          "text": [
            "A의 평균 점수는 80.00점입니다.\n"
          ]
        }
      ],
      "source": [
        "calculate_average(\"A\", 90, 70)"
      ]
    },
    {
      "cell_type": "code",
      "execution_count": null,
      "id": "65edd868-9860-40e3-a5d9-1f3ea6828b8c",
      "metadata": {
        "id": "65edd868-9860-40e3-a5d9-1f3ea6828b8c",
        "outputId": "e77918e6-4d18-4f2d-b13e-e0e8ae67732a"
      },
      "outputs": [
        {
          "name": "stdout",
          "output_type": "stream",
          "text": [
            "C의 점수를 입력하지 않았습니다.\n"
          ]
        }
      ],
      "source": [
        "calculate_average(\"C\")"
      ]
    },
    {
      "cell_type": "code",
      "execution_count": null,
      "id": "94bb36f8-c7a0-4e3e-8d08-4ab95a435ad8",
      "metadata": {
        "id": "94bb36f8-c7a0-4e3e-8d08-4ab95a435ad8"
      },
      "outputs": [],
      "source": [
        "def calculate_average(name, scores):\n",
        "    if len(scores) > 0:  # 리스트 확인\n",
        "        average_score = sum(scores) / len(scores)\n",
        "        print(f\"{name}의 평균 점수는 {average_score:.2f}점입니다.\")\n",
        "    else:\n",
        "        print(f\"{name}의 점수를 입력하지 않았습니다.\")"
      ]
    },
    {
      "cell_type": "markdown",
      "id": "86b5b516-6802-42b0-b3eb-1e1195a55dd2",
      "metadata": {
        "id": "86b5b516-6802-42b0-b3eb-1e1195a55dd2"
      },
      "source": [
        "## 키워드 인수 확인 예제\n",
        "- 학생의 이름, 과목별, 점수, 그리고 학년을 받아 학생의 성적을 출력하는 함수\n",
        "    + 고정 인수 : 학생의 이름\n",
        "    + 가변 인수 : 여러 개의 과목 점수\n",
        "    + 키워드 인수 : 학년 정보"
      ]
    },
    {
      "cell_type": "code",
      "execution_count": null,
      "id": "a3484fec-8202-4bd1-bbce-89938aeaf5e5",
      "metadata": {
        "id": "a3484fec-8202-4bd1-bbce-89938aeaf5e5",
        "outputId": "d1404f26-3b41-45fa-bbbd-42187a5306de"
      },
      "outputs": [
        {
          "name": "stdout",
          "output_type": "stream",
          "text": [
            "학생 이름: Alice\n",
            "평균 점수: 88.33\n",
            "grade: 2학년\n",
            "school: Seoul High School\n",
            "\n",
            "\n",
            "학생 이름: Bob\n",
            "평균 점수: 80.75\n",
            "grade: 3학년\n",
            "school: Busan High School\n",
            "hobby: 축구\n",
            "\n",
            "\n",
            "학생 이름: Charlie\n",
            "점수를 입력하지 않았습니다.\n",
            "grade: 1학년\n"
          ]
        }
      ],
      "source": [
        "# def student_report(name, *args, **kwargs):\n",
        "\n",
        "def student_report(name, *scores, **details):\n",
        "    print(f\"학생 이름: {name}\")\n",
        "\n",
        "    # 점수가 입력된 경우에만 평균을 계산\n",
        "    if scores:\n",
        "        average_score = sum(scores) / len(scores)\n",
        "        print(f\"평균 점수: {average_score:.2f}\")\n",
        "    else:\n",
        "        print(\"점수를 입력하지 않았습니다.\")\n",
        "\n",
        "    # 키워드 인수로 전달된 추가 정보를 출력\n",
        "    for key, value in details.items():\n",
        "        print(f\"{key}: {value}\")\n",
        "\n",
        "# 함수 호출 예제\n",
        "student_report(\"Alice\", 88, 92, 85, grade=\"2학년\", school=\"Seoul High School\")\n",
        "print(\"\\n\")\n",
        "student_report(\"Bob\", 75, 80, 78, 90, grade=\"3학년\", school=\"Busan High School\", hobby=\"축구\")\n",
        "print(\"\\n\")\n",
        "student_report(\"Charlie\", grade=\"1학년\")"
      ]
    },
    {
      "cell_type": "markdown",
      "id": "db9ac83d-d798-4e50-833c-e4df3d132555",
      "metadata": {
        "id": "db9ac83d-d798-4e50-833c-e4df3d132555"
      },
      "source": [
        "# 람다(lambda) 함수"
      ]
    },
    {
      "cell_type": "code",
      "execution_count": null,
      "id": "e5198395-e7aa-4292-9690-965a37b3a38a",
      "metadata": {
        "id": "e5198395-e7aa-4292-9690-965a37b3a38a",
        "outputId": "ad461fb1-fe52-4306-fff3-c039f0171293"
      },
      "outputs": [
        {
          "data": {
            "text/plain": [
              "25"
            ]
          },
          "execution_count": 38,
          "metadata": {},
          "output_type": "execute_result"
        }
      ],
      "source": [
        "(lambda x : x ** 2)(5)"
      ]
    },
    {
      "cell_type": "code",
      "execution_count": null,
      "id": "64a3cd6f-6a39-49ca-a624-26769200480a",
      "metadata": {
        "id": "64a3cd6f-6a39-49ca-a624-26769200480a",
        "outputId": "d4a4cc09-35fd-4bc9-b2c5-bfe7f635635e"
      },
      "outputs": [
        {
          "data": {
            "text/plain": [
              "25"
            ]
          },
          "execution_count": 40,
          "metadata": {},
          "output_type": "execute_result"
        }
      ],
      "source": [
        "mySquare = lambda x : x ** 2\n",
        "mySquare(5)"
      ]
    },
    {
      "cell_type": "code",
      "execution_count": null,
      "id": "d4d8e3c7-d202-4839-ae82-d9a8c04b991b",
      "metadata": {
        "id": "d4d8e3c7-d202-4839-ae82-d9a8c04b991b",
        "outputId": "f365018a-7162-4f83-d5f1-d14058ee8ee2"
      },
      "outputs": [
        {
          "data": {
            "text/plain": [
              "10"
            ]
          },
          "execution_count": 41,
          "metadata": {},
          "output_type": "execute_result"
        }
      ],
      "source": [
        "sampleFunc = lambda x, y, z : x ** 2 + 3 * y + z\n",
        "sampleFunc(1, 2, 3)"
      ]
    },
    {
      "cell_type": "markdown",
      "id": "9ba02417-22f1-4f77-a36c-911d6ce4a93d",
      "metadata": {
        "id": "9ba02417-22f1-4f77-a36c-911d6ce4a93d"
      },
      "source": [
        "# Context Manager, Decorator\n",
        "- 클로저 Closure\n",
        "  + 함수 안에 또 다른 함수 생성"
      ]
    },
    {
      "cell_type": "code",
      "execution_count": null,
      "id": "060d0d7d-26ee-4a29-8619-94a22fc4d86f",
      "metadata": {
        "id": "060d0d7d-26ee-4a29-8619-94a22fc4d86f",
        "outputId": "79816730-65c2-44f7-81c8-f835fd19f35b"
      },
      "outputs": [
        {
          "name": "stdout",
          "output_type": "stream",
          "text": [
            "Function 'slow_function' executed in 2.0024 seconds\n"
          ]
        },
        {
          "data": {
            "text/plain": [
              "'Finished'"
            ]
          },
          "execution_count": 45,
          "metadata": {},
          "output_type": "execute_result"
        }
      ],
      "source": [
        "import time\n",
        "\n",
        "# 코드가 돌아가는 시간을 체크하는 함수\n",
        "def time_decorator(func):\n",
        "    def wrapper(*args, **kwargs):\n",
        "        start_time = time.time()\n",
        "        result = func(*args, **kwargs)\n",
        "        end_time = time.time()\n",
        "        print(f\"Function '{func.__name__}' executed in {end_time - start_time:.4f} seconds\")\n",
        "        return result\n",
        "    return wrapper\n",
        "\n",
        "@time_decorator\n",
        "def slow_function():\n",
        "    time.sleep(2)\n",
        "    return \"Finished\"\n",
        "\n",
        "# 사용 예시\n",
        "slow_function()"
      ]
    },
    {
      "cell_type": "code",
      "execution_count": null,
      "id": "d1a56d66-ab47-41df-a6b3-a036f908e8b6",
      "metadata": {
        "id": "d1a56d66-ab47-41df-a6b3-a036f908e8b6",
        "outputId": "a0ce993f-eb7e-4c98-dfe7-5fef6a3f7ffa"
      },
      "outputs": [
        {
          "name": "stdout",
          "output_type": "stream",
          "text": [
            "학생 이름: Alice\n",
            "평균 점수: 88.33\n",
            "grade: 2학년\n",
            "school: Seoul High School\n",
            "Function 'student_report' executed in 0.0000 seconds\n",
            "\n",
            "\n",
            "학생 이름: Bob\n",
            "평균 점수: 80.75\n",
            "grade: 3학년\n",
            "school: Busan High School\n",
            "hobby: 축구\n",
            "Function 'student_report' executed in 0.0000 seconds\n",
            "\n",
            "\n",
            "학생 이름: Charlie\n",
            "점수를 입력하지 않았습니다.\n",
            "grade: 1학년\n",
            "Function 'student_report' executed in 0.0000 seconds\n"
          ]
        }
      ],
      "source": [
        "# def student_report(name, *args, **kwargs):\n",
        "\n",
        "@time_decorator\n",
        "def student_report(name, *scores, **details):\n",
        "    print(f\"학생 이름: {name}\")\n",
        "\n",
        "    # 점수가 입력된 경우에만 평균을 계산\n",
        "    if scores:\n",
        "        average_score = sum(scores) / len(scores)\n",
        "        print(f\"평균 점수: {average_score:.2f}\")\n",
        "    else:\n",
        "        print(\"점수를 입력하지 않았습니다.\")\n",
        "\n",
        "    # 키워드 인수로 전달된 추가 정보를 출력\n",
        "    for key, value in details.items():\n",
        "        print(f\"{key}: {value}\")\n",
        "\n",
        "# 함수 호출 예제\n",
        "student_report(\"Alice\", 88, 92, 85, grade=\"2학년\", school=\"Seoul High School\")\n",
        "print(\"\\n\")\n",
        "student_report(\"Bob\", 75, 80, 78, 90, grade=\"3학년\", school=\"Busan High School\", hobby=\"축구\")\n",
        "print(\"\\n\")\n",
        "student_report(\"Charlie\", grade=\"1학년\")"
      ]
    },
    {
      "cell_type": "code",
      "execution_count": null,
      "id": "209e4398-f599-4720-a6e5-9acb41e6d6dc",
      "metadata": {
        "id": "209e4398-f599-4720-a6e5-9acb41e6d6dc",
        "outputId": "a4cf0d20-8d68-4984-de66-25a19ee4656c"
      },
      "outputs": [
        {
          "data": {
            "text/plain": [
              "'Finished'"
            ]
          },
          "execution_count": 44,
          "metadata": {},
          "output_type": "execute_result"
        }
      ],
      "source": [
        "import time\n",
        "\n",
        "def slow_function():\n",
        "    time.sleep(2)\n",
        "    return \"Finished\"\n",
        "\n",
        "# 사용 예시\n",
        "slow_function()"
      ]
    },
    {
      "cell_type": "markdown",
      "id": "dcdddec4-29b9-4794-9398-cdc95fae0062",
      "metadata": {
        "id": "dcdddec4-29b9-4794-9398-cdc95fae0062"
      },
      "source": [
        "# 클래스 왕기초"
      ]
    },
    {
      "cell_type": "code",
      "execution_count": null,
      "id": "7521dc6d-d79a-4361-a1b3-1ab84ca52d9a",
      "metadata": {
        "id": "7521dc6d-d79a-4361-a1b3-1ab84ca52d9a"
      },
      "outputs": [],
      "source": [
        "class 책:\n",
        "    title = None         # 속성\n",
        "    author = None        # 속성\n",
        "    pages = 0            # 속성\n",
        "    price = 0            # 속성\n",
        "    discount = 0         # 속성\n",
        "\n",
        "    def 읽는시간(self, reading_speed = 30):\n",
        "        return round(self.pages / reading_speed, 1)"
      ]
    },
    {
      "cell_type": "code",
      "execution_count": null,
      "id": "8298dc12-9e32-4962-928a-87dfc0ab0229",
      "metadata": {
        "id": "8298dc12-9e32-4962-928a-87dfc0ab0229",
        "outputId": "c671c679-1a6d-4747-852e-3e1e28103b4c"
      },
      "outputs": [
        {
          "name": "stdout",
          "output_type": "stream",
          "text": [
            "Streamlit Evan\n",
            "18.7\n"
          ]
        }
      ],
      "source": [
        "# 인스턴스 생성\n",
        "책01호 = 책()\n",
        "책01호.title = \"Streamlit\"\n",
        "책01호.author = \"Evan\"\n",
        "책01호.pages = 560\n",
        "책01호.price = 40000\n",
        "책01호.discount = 10\n",
        "\n",
        "print(책01호.title, 책01호.author)\n",
        "출력값 = 책01호.읽는시간()\n",
        "print(출력값)"
      ]
    },
    {
      "cell_type": "code",
      "execution_count": null,
      "id": "74fb697f-a9fd-4d68-a6d9-8c4e33cbe31d",
      "metadata": {
        "id": "74fb697f-a9fd-4d68-a6d9-8c4e33cbe31d",
        "outputId": "013ef488-b54f-4804-f975-38f72576f3ab"
      },
      "outputs": [
        {
          "name": "stdout",
          "output_type": "stream",
          "text": [
            "Streamlit Evan\n",
            "112.0\n"
          ]
        }
      ],
      "source": [
        "print(책01호.title, 책01호.author)\n",
        "출력값 = 책01호.읽는시간(reading_speed = 5)\n",
        "print(출력값)"
      ]
    },
    {
      "cell_type": "markdown",
      "id": "6de58530-d5f5-4358-85a6-3ca0e75abc26",
      "metadata": {
        "id": "6de58530-d5f5-4358-85a6-3ca0e75abc26"
      },
      "source": [
        "## 코드 업데이트"
      ]
    },
    {
      "cell_type": "code",
      "execution_count": null,
      "id": "49c86c51-a766-469f-be17-966292a13682",
      "metadata": {
        "id": "49c86c51-a766-469f-be17-966292a13682"
      },
      "outputs": [],
      "source": [
        "class 책():\n",
        "    # initialize : 초기화\n",
        "    def __init__(self, title, author, pages, price, discount_rate=0):\n",
        "        self.title = title # 책의 제목\n",
        "        self.author = author\n",
        "        self.pages = pages\n",
        "        self.price = price\n",
        "        self.discount_rate = discount_rate\n",
        "\n",
        "    def reading_time(self, reading_speed = 30):\n",
        "        return round(self.pages / reading_speed, 1)\n",
        "\n",
        "    def apply_discount(self):\n",
        "        return self.price * (1 - self.discount_rate)"
      ]
    },
    {
      "cell_type": "code",
      "execution_count": null,
      "id": "c385028c-35ab-4bdb-b7e3-574e98c2a1c7",
      "metadata": {
        "id": "c385028c-35ab-4bdb-b7e3-574e98c2a1c7",
        "outputId": "3c4f1e46-88a5-42e4-ec53-40d755e20c87"
      },
      "outputs": [
        {
          "data": {
            "text/plain": [
              "('샘플', '샘플2')"
            ]
          },
          "execution_count": 80,
          "metadata": {},
          "output_type": "execute_result"
        }
      ],
      "source": [
        "책01호 = 책(\"샘플\", \"Evan\", 300, 20000, 0.5)\n",
        "책02호 = 책(\"샘플2\", \"Evan1\", 400, 20000, 0.1)\n",
        "책03호 = 책(\"샘플3\", \"Evan2\", 500, 20000, 0.1)\n",
        "책04호 = 책(\"샘플4\", \"Eva3\", 600, 20000, 0.1)\n",
        "책01호.title, 책02호.title"
      ]
    },
    {
      "cell_type": "code",
      "execution_count": null,
      "id": "3c03cb27-7054-4dd7-8ba8-b80b85765ef3",
      "metadata": {
        "id": "3c03cb27-7054-4dd7-8ba8-b80b85765ef3",
        "outputId": "e9107998-0a09-472c-e95d-aed314c9fb03"
      },
      "outputs": [
        {
          "data": {
            "text/plain": [
              "10.0"
            ]
          },
          "execution_count": 76,
          "metadata": {},
          "output_type": "execute_result"
        }
      ],
      "source": [
        "책01호 = 책(\"샘플\", \"Evan\", 300, 20000, 0.1)\n",
        "책01호.reading_time()"
      ]
    },
    {
      "cell_type": "code",
      "execution_count": null,
      "id": "883fb2e9-51c0-4e29-b4c7-0c694ba59adf",
      "metadata": {
        "id": "883fb2e9-51c0-4e29-b4c7-0c694ba59adf",
        "outputId": "4e5d9a56-c8f9-4fa8-9fb5-aee16a37ffac"
      },
      "outputs": [
        {
          "data": {
            "text/plain": [
              "10000.0"
            ]
          },
          "execution_count": 81,
          "metadata": {},
          "output_type": "execute_result"
        }
      ],
      "source": [
        "책01호.apply_discount()"
      ]
    },
    {
      "cell_type": "code",
      "execution_count": null,
      "id": "ad8ec27e-8191-4a9c-9909-d252a7ad195b",
      "metadata": {
        "id": "ad8ec27e-8191-4a9c-9909-d252a7ad195b"
      },
      "outputs": [],
      "source": [
        "class 책2():\n",
        "    # initialize : 초기화\n",
        "    def __init__(self, title, author=None, pages=None, price=None, discount_rate=0):\n",
        "        self.title = title # 책의 제목\n",
        "        self.author = author\n",
        "        self.pages = pages\n",
        "        self.price = price\n",
        "        self.discount_rate = discount_rate\n",
        "\n",
        "    def reading_time(self, reading_speed = 30):\n",
        "        return round(self.pages / reading_speed, 1)\n",
        "\n",
        "    def apply_discount(self):\n",
        "        return self.price * (1 - self.discount_rate)"
      ]
    },
    {
      "cell_type": "code",
      "execution_count": null,
      "id": "6a8c3a23-9474-4dde-82d5-84595d4fbb78",
      "metadata": {
        "id": "6a8c3a23-9474-4dde-82d5-84595d4fbb78",
        "outputId": "b1798d27-7449-4102-a5d1-b25713c237ee"
      },
      "outputs": [
        {
          "data": {
            "text/plain": [
              "<__main__.책2 at 0x21fcef3f410>"
            ]
          },
          "execution_count": 84,
          "metadata": {},
          "output_type": "execute_result"
        }
      ],
      "source": [
        "temp = 책2(\"dda\")\n",
        "temp"
      ]
    }
  ],
  "metadata": {
    "kernelspec": {
      "display_name": "Python 3 (ipykernel)",
      "language": "python",
      "name": "python3"
    },
    "language_info": {
      "codemirror_mode": {
        "name": "ipython",
        "version": 3
      },
      "file_extension": ".py",
      "mimetype": "text/x-python",
      "name": "python",
      "nbconvert_exporter": "python",
      "pygments_lexer": "ipython3",
      "version": "3.12.6"
    },
    "colab": {
      "provenance": [],
      "include_colab_link": true
    }
  },
  "nbformat": 4,
  "nbformat_minor": 5
}