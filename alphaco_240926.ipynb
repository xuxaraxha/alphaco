{
  "nbformat": 4,
  "nbformat_minor": 0,
  "metadata": {
    "colab": {
      "provenance": [],
      "authorship_tag": "ABX9TyOqpY1UgC1elWtknp3ufy5c",
      "include_colab_link": true
    },
    "kernelspec": {
      "name": "python3",
      "display_name": "Python 3"
    },
    "language_info": {
      "name": "python"
    }
  },
  "cells": [
    {
      "cell_type": "markdown",
      "metadata": {
        "id": "view-in-github",
        "colab_type": "text"
      },
      "source": [
        "<a href=\"https://colab.research.google.com/github/xuxaraxha/alphaco/blob/main/alphaco_240926.ipynb\" target=\"_parent\"><img src=\"https://colab.research.google.com/assets/colab-badge.svg\" alt=\"Open In Colab\"/></a>"
      ]
    },
    {
      "cell_type": "markdown",
      "source": [
        "## 클래스 선언"
      ],
      "metadata": {
        "id": "NMZgYm6Bz66L"
      }
    },
    {
      "cell_type": "code",
      "execution_count": null,
      "metadata": {
        "id": "_x8IsBjvrTDR"
      },
      "outputs": [],
      "source": [
        "class Bicycle() :\n",
        "  pass"
      ]
    },
    {
      "cell_type": "markdown",
      "source": [
        "### 객체 생성"
      ],
      "metadata": {
        "id": "6DDtj-U10AZG"
      }
    },
    {
      "cell_type": "code",
      "source": [
        "my_bicycle = Bicycle()\n",
        "my_bicycle"
      ],
      "metadata": {
        "colab": {
          "base_uri": "https://localhost:8080/"
        },
        "id": "RxZYznarz-zP",
        "outputId": "6c3f1920-0db0-401e-f5bb-2e952c9468c7"
      },
      "execution_count": null,
      "outputs": [
        {
          "output_type": "execute_result",
          "data": {
            "text/plain": [
              "<__main__.Bicycle at 0x787f0a331f00>"
            ]
          },
          "metadata": {},
          "execution_count": 3
        }
      ]
    },
    {
      "cell_type": "code",
      "source": [
        "my_bicycle.wheel_size = 26\n",
        "my_bicycle.color = 'black'"
      ],
      "metadata": {
        "id": "07pWYAQC0Fpo"
      },
      "execution_count": null,
      "outputs": []
    },
    {
      "cell_type": "code",
      "source": [
        "print(my_bicycle.wheel_size)"
      ],
      "metadata": {
        "colab": {
          "base_uri": "https://localhost:8080/"
        },
        "id": "9hBm7JG90Zum",
        "outputId": "c798204d-0cfe-48d8-d093-e2c35fa2398b"
      },
      "execution_count": null,
      "outputs": [
        {
          "output_type": "stream",
          "name": "stdout",
          "text": [
            "26\n"
          ]
        }
      ]
    },
    {
      "cell_type": "code",
      "source": [
        "# 비추천 방법\n",
        "class 책:\n",
        "    title = None\n",
        "    author = None\n",
        "    pages = 0\n",
        "    price = 0\n",
        "    discount = 0\n",
        "\n",
        "# 인스턴스 생성\n",
        "책01호 = 책()\n",
        "책01호.title = \"Streamlit\"\n",
        "책01호.author = \"Evan\"\n",
        "책01호.pages = 560\n",
        "책01호.price = 40000\n",
        "책01호.discount = 10\n",
        "\n",
        "print(책01호.title, 책01호.author)"
      ],
      "metadata": {
        "colab": {
          "base_uri": "https://localhost:8080/"
        },
        "id": "fjCVpHLp0gLl",
        "outputId": "c7b086c0-bc15-494c-93ad-74c4bc9c9cd0"
      },
      "execution_count": null,
      "outputs": [
        {
          "output_type": "stream",
          "name": "stdout",
          "text": [
            "Streamlit Evan\n"
          ]
        }
      ]
    },
    {
      "cell_type": "code",
      "source": [
        "# 추천 방법\n",
        "class Bicycle() :\n",
        "  def __init__(self, wheel_size, color) :\n",
        "    self.wheel_size = wheel_size\n",
        "    self.color = color\n",
        "\n",
        "  # 메서드\n",
        "  def move(self, speed) :\n",
        "    print(f\"자전거 : 시속 {speed}킬로미터로 전진\")\n",
        "\n",
        "my_bicycle = Bicycle(26, 'Black')  # 객체 생성과 동시에 속성값을 지정\n",
        "print(my_bicycle.wheel_size, my_bicycle.color)\n",
        "\n",
        "my_bicycle.move(40)"
      ],
      "metadata": {
        "colab": {
          "base_uri": "https://localhost:8080/"
        },
        "id": "xtc-0sd40_oh",
        "outputId": "4ee46b31-d5bf-480b-9a66-f53c2b2e84b7"
      },
      "execution_count": null,
      "outputs": [
        {
          "output_type": "stream",
          "name": "stdout",
          "text": [
            "26 Black\n",
            "자전거 : 시속 40킬로미터로 전진\n"
          ]
        }
      ]
    },
    {
      "cell_type": "markdown",
      "source": [
        "### 문제\n",
        "- Person 클래스 만드세요.\n",
        "- 속성 : 이름(name), 나이(age)\n",
        "- greet() : 메서드"
      ],
      "metadata": {
        "id": "AEbNnHwA5cw-"
      }
    },
    {
      "cell_type": "code",
      "source": [
        "# 추천 방법\n",
        "class Person() :\n",
        "  def __init__(self, name, age) :\n",
        "    self.name = name\n",
        "    self.age = age\n",
        "\n",
        "  # 메서드\n",
        "  def greet(self) :\n",
        "    print(f\"안녕하세요! 저는 {self.name}이고, 현재 {self.age}살입니다.\")\n",
        "\n",
        "heeju = Person(\"박희주\", 24)\n",
        "print(heeju.name, heeju.age)\n",
        "\n",
        "heeju.greet()"
      ],
      "metadata": {
        "colab": {
          "base_uri": "https://localhost:8080/"
        },
        "id": "Dw3nSJVN1V1T",
        "outputId": "5475da1c-240f-40d6-8198-182d5238aaec"
      },
      "execution_count": null,
      "outputs": [
        {
          "output_type": "stream",
          "name": "stdout",
          "text": [
            "박희주 24\n",
            "안녕하세요! 저는 박희주이고, 현재 24살입니다.\n"
          ]
        }
      ]
    },
    {
      "cell_type": "code",
      "source": [
        "class Person() :\n",
        "  def __init__(self, name, age) :\n",
        "    self.name = name\n",
        "    self.age = age\n",
        "\n",
        "  # 메서드\n",
        "  def greet(self, other_name = \"친구\") :\n",
        "    print(f\"안녕하세요, {other_name}님. 저는 {self.name}이고, 현재 {self.age}살입니다.\")  # other_name은 매개변수라 self 안씀\n",
        "\n",
        "heeju = Person(\"희주\", 24)\n",
        "heeju.greet(\"라현\")"
      ],
      "metadata": {
        "colab": {
          "base_uri": "https://localhost:8080/"
        },
        "id": "JWxrcBOe6TSY",
        "outputId": "26571934-2c7c-4d6e-d1f1-15ae280b58cc"
      },
      "execution_count": null,
      "outputs": [
        {
          "output_type": "stream",
          "name": "stdout",
          "text": [
            "안녕하세요, 라현님. 저는 희주이고, 현재 24살입니다.\n"
          ]
        }
      ]
    },
    {
      "cell_type": "markdown",
      "source": [
        "### 다양한 메서드 추가"
      ],
      "metadata": {
        "id": "n_6oHHdK88ti"
      }
    },
    {
      "cell_type": "code",
      "source": [
        "class Bicycle() :\n",
        "  def __init__(self, wheel_size, color) :\n",
        "    self.wheel_size = wheel_size\n",
        "    self.color = color\n",
        "\n",
        "  # 메서드\n",
        "  def move(self, speed) :\n",
        "    print(f\"자전거 : 시속 {speed}킬로미터로 전진\")\n",
        "\n",
        "  def stop(self) :\n",
        "    print(f\"{self.wheel_size}, {self.color}의 특성을 가진 자전거님 정지하세요.\")\n",
        "\n",
        "my_bicycle = Bicycle(26, 'Black')\n",
        "my_bicycle.move(30)\n",
        "my_bicycle.stop()"
      ],
      "metadata": {
        "colab": {
          "base_uri": "https://localhost:8080/"
        },
        "id": "mzZOKxol8YSh",
        "outputId": "b3483d61-3f0a-40de-cf55-fb2b817b2a56"
      },
      "execution_count": null,
      "outputs": [
        {
          "output_type": "stream",
          "name": "stdout",
          "text": [
            "자전거 : 시속 30킬로미터로 전진\n",
            "26, Black의 특성을 가진 자전거님 정지하세요.\n"
          ]
        }
      ]
    },
    {
      "cell_type": "markdown",
      "source": [
        "- 클래스를 만든다고 할 때, 클래스명 특성과 행동을 정의하는 것이 핵심 포인트\n",
        "- 시각화한다고 가정 (ver.1)\n",
        "  - 도면 클래스 : 다양한 속성과 함수들이 존재\n",
        "  - 그리기도구 클래스 : 다양한 속성과 함수들이 존재\n",
        "  - 막대그래프 클래스\n",
        "  - 파이차트 클래스\n",
        "  - 3D 그리기 클래스 추가 -> ver.2\n"
      ],
      "metadata": {
        "id": "S4EGJBbr9wwG"
      }
    },
    {
      "cell_type": "markdown",
      "source": [
        "## 클래스에서 사용하는 변수"
      ],
      "metadata": {
        "id": "__-GOSm1_-e4"
      }
    },
    {
      "cell_type": "code",
      "source": [
        "class Car() :\n",
        "\n",
        "  # 클래스 변수\n",
        "  instance_count = 0  # 클래스 변수 생성 및 초기화\n",
        "\n",
        "  def __init__(self, size, color) :\n",
        "    self.size = size  # 인스턴스 변수 생성 및 초기화\n",
        "    self.color = color  # 인스턴스 변수 생성 및 초기화\n",
        "    Car.instance_count += 1  # 클래스 변수 이용하는 방법\n",
        "    print(f\"자동차 객체의 수 : {Car.instance_count}\")\n",
        "\n",
        "  # 메서드\n",
        "  def move(self) :\n",
        "   print(f\"자동차 {self.size}, {self.color}가 움직입니다.\")"
      ],
      "metadata": {
        "id": "xiBvuSnv9aP3"
      },
      "execution_count": null,
      "outputs": []
    },
    {
      "cell_type": "code",
      "source": [
        "car1 = Car(\"small\", \"white\")\n",
        "car2 = Car(\"big\", \"black\")\n",
        "car3 = Car(\"medium\", \"yellow\")"
      ],
      "metadata": {
        "colab": {
          "base_uri": "https://localhost:8080/"
        },
        "id": "bahbGla8_9Qe",
        "outputId": "49b35d53-5cbd-46ce-a58c-486fb597e848"
      },
      "execution_count": null,
      "outputs": [
        {
          "output_type": "stream",
          "name": "stdout",
          "text": [
            "자동차 객체의 수 : 1\n",
            "자동차 객체의 수 : 2\n",
            "자동차 객체의 수 : 3\n"
          ]
        }
      ]
    },
    {
      "cell_type": "markdown",
      "source": [
        "### 상속의 기본형태\n",
        "- 상속은 is-a 관계\n",
        "\n",
        "- Car is a vehicle -> 상위클래스 : vehicle, 하위클래스 : Car\n",
        "- Apple is a fruit -> 상위클래스 : fruit, 하위클래스 : Apple\n",
        "- Cat is a animal -> 상위클래스 : Animal, 하위클래스 Cat"
      ],
      "metadata": {
        "id": "rC8SN31RHYzA"
      }
    },
    {
      "cell_type": "code",
      "source": [
        "class 상위클래스 :\n",
        "  pass\n",
        "\n",
        "class 하위클래스(상위클래스) :\n",
        "  pass"
      ],
      "metadata": {
        "id": "gFru1qO1BAFs"
      },
      "execution_count": null,
      "outputs": []
    },
    {
      "cell_type": "code",
      "source": [
        "class 동물 :\n",
        "  name = \"\"\n",
        "\n",
        "  def 음식먹기(self) :\n",
        "    print(\"저는 음식을 먹습니다.\")"
      ],
      "metadata": {
        "id": "Gu21t_wrIqMx"
      },
      "execution_count": null,
      "outputs": []
    },
    {
      "cell_type": "code",
      "source": [
        "동물1 = 동물()\n",
        "동물1.음식먹기()"
      ],
      "metadata": {
        "colab": {
          "base_uri": "https://localhost:8080/"
        },
        "id": "7M4N4Ji5I4iY",
        "outputId": "bf889a40-2f9e-48d1-97ff-ed45a98918e5"
      },
      "execution_count": null,
      "outputs": [
        {
          "output_type": "stream",
          "name": "stdout",
          "text": [
            "저는 음식을 먹습니다.\n"
          ]
        }
      ]
    },
    {
      "cell_type": "code",
      "source": [
        "class 강아지(동물) :\n",
        "\n",
        "  def 자기소개(self) :\n",
        "    print(f\"내 이름은 {self.name}\")"
      ],
      "metadata": {
        "id": "h2xDh1l6I7H5"
      },
      "execution_count": null,
      "outputs": []
    },
    {
      "cell_type": "code",
      "source": [
        "강아지1 = 강아지()\n",
        "강아지1.name = \"뽀삐\"\n",
        "강아지1.음식먹기()\n",
        "강아지1.자기소개()"
      ],
      "metadata": {
        "colab": {
          "base_uri": "https://localhost:8080/"
        },
        "id": "pdhk0VkrJVlX",
        "outputId": "f371407c-b1f2-4815-efba-55d82ce2f4f8"
      },
      "execution_count": null,
      "outputs": [
        {
          "output_type": "stream",
          "name": "stdout",
          "text": [
            "저는 음식을 먹습니다.\n",
            "내 이름은 뽀삐\n"
          ]
        }
      ]
    },
    {
      "cell_type": "markdown",
      "source": [
        "### 다중상속"
      ],
      "metadata": {
        "id": "CBd5EII7LQX1"
      }
    },
    {
      "cell_type": "code",
      "source": [
        "class 상위클래스1 :\n",
        "  pass\n",
        "class 상위클래스2 :\n",
        "  pass\n",
        "class 하위클래스(상위클래스1, 상위클래스2) :\n",
        "  pass"
      ],
      "metadata": {
        "id": "RYAeFuX7Jd5E"
      },
      "execution_count": null,
      "outputs": []
    },
    {
      "cell_type": "code",
      "source": [
        "class 포유류 :\n",
        "  def 포유류_정보(self) :\n",
        "    print(\"포유류의 특징은 새끼를 낳는다.\")\n",
        "\n",
        "class 날개동물 :\n",
        "  def 날개동물_정보(self) :\n",
        "    print(\"날개를 가진 동물은 날 수 있다.\")\n",
        "\n",
        "class 박쥐(포유류, 날개동물) :\n",
        "  pass"
      ],
      "metadata": {
        "id": "uIv1fq7QLb4H"
      },
      "execution_count": null,
      "outputs": []
    },
    {
      "cell_type": "code",
      "source": [
        "b1 = 박쥐()\n",
        "b1.포유류_정보()\n",
        "b1.날개동물_정보()"
      ],
      "metadata": {
        "colab": {
          "base_uri": "https://localhost:8080/"
        },
        "id": "-DUnqpbKMiXP",
        "outputId": "704446a6-d38d-4f4d-e709-90d58c10774b"
      },
      "execution_count": null,
      "outputs": [
        {
          "output_type": "stream",
          "name": "stdout",
          "text": [
            "포유류의 특징은 새끼를 낳는다.\n",
            "날개를 가진 동물은 날 수 있다.\n"
          ]
        }
      ]
    },
    {
      "cell_type": "markdown",
      "source": [
        "\n",
        "- Car 클래스를 만들어보겠습니다.\n",
        "- Car 클래스는 `__init__`, `get_description`, `read_kilometer`, `update_kilometer`, `increment_kilometer`라는 메서드를 갖습니다.\n",
        "    + `__init__` 메서드는 클래스의 생성자로, 객체가 생성될 때 호출됩니다.\n",
        "- 속성 사용하기\n",
        "    + `self.make`, `self.model`, `self.year`, `self.kilometer_reading` 클래스의 속성입니다.\n",
        "    + 객체가 생성될 때 속성값이 초기화됩니다.\n",
        "\n",
        "- self의 의미\n",
        "    + self는 클래스의 인스턴스를 참조합니다. 클래스 내의 메서드가 객체의 속성에 접근하거나 다른 메서드를 호출할 때 사용합니다.\n",
        "    + self를 통해 클래스 내의 속성 및 메서드를 정의하고 접근할 수 있습니다.\n",
        "\n",
        "- 클래스의 위치 인수, 키워드 인수\n",
        "    + `__init__` 메서드의 make, model, year는 위치 인수로 전달됩니다.\n",
        "    + 메서드를 호출할 때 my_car.update_kilometer(kilometers=500)처럼 키워드 인수로 사용할 수도 있습니다.\n"
      ],
      "metadata": {
        "id": "IynTNMomMmYi"
      }
    },
    {
      "cell_type": "code",
      "source": [
        "class Car:\n",
        "    # __init__ 메서드: 객체가 생성될 때 호출되며 속성을 초기화합니다.\n",
        "    def __init__(self, make, model, year):\n",
        "        self.make = make  # 자동차 제조사\n",
        "        self.model = model  # 자동차 모델\n",
        "        self.year = year  # 제조 연도\n",
        "        self.kilometer_reading = 0  # 주행 거리 (초기값 0)\n",
        "\n",
        "    # 자동차의 전체 설명을 반환하는 메서드\n",
        "    def get_description(self):\n",
        "        return f\"{self.year} {self.make} {self.model}\"\n",
        "\n",
        "    # 현재 주행 거리 출력하는 메서드\n",
        "    def read_kilometer(self):\n",
        "        print(f\"이 자동차의 현재 주행 거리는 {self.kilometer_reading} 킬로미터입니다.\")\n",
        "\n",
        "    # 주행거리 업데이트\n",
        "    # 새로운 값이 기존 값보다 클 경우에만 업데이트\n",
        "    def update_kilometer(self, kilometers):\n",
        "        if kilometers >= self.kilometer_reading :\n",
        "            self.kilometer_reading = kilometers\n",
        "            print(f\"업데이트 확인 : {self.kilometer_reading} 킬로미터\")\n",
        "        else :\n",
        "            print(f\"현재 : {self.kilometer_reading}, 다시 입력해주세요\")\n",
        "\n",
        "    # 주행거리 증가시키기\n",
        "    def increment_kilometer(self, kilometers):\n",
        "        if kilometers >= self.kilometer_reading :\n",
        "            self.kilometer_reading = kilometers\n",
        "            print(f\"업데이트 확인 : {self.kilometer_reading} 킬로미터\")\n",
        "        else :\n",
        "            print(f\"현재 : {self.kilometer_reading}, 다시 입력해주세요\")"
      ],
      "metadata": {
        "id": "RgeISdNQf3f6"
      },
      "execution_count": null,
      "outputs": []
    },
    {
      "cell_type": "code",
      "source": [
        "my_car = Car(\"현대\", \"아반떼\", 2024)\n",
        "description = my_car.get_description()\n",
        "print(description)\n",
        "my_car.read_kilometer()\n",
        "my_car.increment_kilometer(100)\n",
        "my_car.read_kilometer()"
      ],
      "metadata": {
        "colab": {
          "base_uri": "https://localhost:8080/"
        },
        "id": "u7Ll0rVbkOG0",
        "outputId": "d54c196c-49a3-467e-a98d-9d39d286190c"
      },
      "execution_count": null,
      "outputs": [
        {
          "output_type": "stream",
          "name": "stdout",
          "text": [
            "2024 현대 아반떼\n",
            "이 자동차의 현재 주행 거리는 0 킬로미터입니다.\n",
            "이 자동차의 현재 주행 거리는 100 킬로미터입니다.\n"
          ]
        }
      ]
    },
    {
      "cell_type": "code",
      "source": [
        "class Car:\n",
        "    \"\"\"\n",
        "    자동차 객체를 나타내는 클래스. 자동차의 제조사, 모델, 연도 및 주행 거리를 추적합니다.\n",
        "    \"\"\"\n",
        "\n",
        "    def __init__(self, make: str, model: str, year: int) -> None:\n",
        "        \"\"\"\n",
        "        객체가 생성될 때 호출되며 속성을 초기화합니다.\n",
        "\n",
        "        Args:\n",
        "            make (str): 자동차 제조사\n",
        "            model (str): 자동차 모델\n",
        "            year (int): 제조 연도\n",
        "        \"\"\"\n",
        "        self.make = make  # 자동차 제조사\n",
        "        self.model = model  # 자동차 모델\n",
        "        self.year = year  # 제조 연도\n",
        "        self.kilometer_reading = 0  # 주행 거리 (초기값 0)\n",
        "\n",
        "    def get_description(self) -> str:\n",
        "        \"\"\"\n",
        "        자동차의 전체 설명을 반환합니다.\n",
        "\n",
        "        Returns:\n",
        "            str: 제조 연도, 제조사, 모델 정보를 포함한 문자열\n",
        "        \"\"\"\n",
        "        return f\"{self.year} {self.make} {self.model}\"\n",
        "\n",
        "    def read_kilometer(self) -> None:\n",
        "        \"\"\"\n",
        "        현재 주행 거리를 출력합니다.\n",
        "        \"\"\"\n",
        "        print(f\"이 자동차의 현재 주행 거리는 {self.kilometer_reading} 킬로미터입니다.\")\n",
        "\n",
        "    def update_kilometer(self, kilometers: int) -> None:\n",
        "        \"\"\"\n",
        "        주행 거리를 새로운 값으로 업데이트합니다.\n",
        "        새로운 값이 기존 값보다 클 경우에만 업데이트됩니다.\n",
        "\n",
        "        Args:\n",
        "            kilometers (int): 업데이트하려는 주행 거리 값\n",
        "        \"\"\"\n",
        "        if kilometers >= self.kilometer_reading:\n",
        "            self.kilometer_reading = kilometers\n",
        "            print(f\"업데이트 확인 : {self.kilometer_reading} 킬로미터\")\n",
        "        else:\n",
        "            print(f\"현재 : {self.kilometer_reading}, 다시 입력해주세용\")\n",
        "\n",
        "    def increment_kilometer(self, kilometers: int) -> None:\n",
        "        \"\"\"\n",
        "        주행 거리를 일정량 증가시킵니다.\n",
        "\n",
        "        Args:\n",
        "            kilometers (int): 증가시킬 주행 거리 값. 양수여야 함.\n",
        "        \"\"\"\n",
        "        if kilometers > 0:\n",
        "            self.kilometer_reading += kilometers\n",
        "        else:\n",
        "            print(\"음수가 입력되었습니다. 양수로 입력해주세요.\")"
      ],
      "metadata": {
        "id": "k9XLwvEDpa7P"
      },
      "execution_count": null,
      "outputs": []
    },
    {
      "cell_type": "code",
      "source": [
        "my_car = Car('현대', \"아반뗴\", 2024)\n",
        "print(my_car.__doc__)"
      ],
      "metadata": {
        "colab": {
          "base_uri": "https://localhost:8080/"
        },
        "id": "4ZHD4CfUrk7z",
        "outputId": "a8372a6e-1feb-4b18-a39d-9d253c772f91"
      },
      "execution_count": null,
      "outputs": [
        {
          "output_type": "stream",
          "name": "stdout",
          "text": [
            "\n",
            "    자동차 객체를 나타내는 클래스. 자동차의 제조사, 모델, 연도 및 주행 거리를 추적합니다.\n",
            "    \n"
          ]
        }
      ]
    },
    {
      "cell_type": "code",
      "source": [
        "help(my_car)"
      ],
      "metadata": {
        "colab": {
          "base_uri": "https://localhost:8080/"
        },
        "id": "DwT-befkr3A9",
        "outputId": "5714328d-c218-4c27-d6d5-9f3110b61cb1"
      },
      "execution_count": null,
      "outputs": [
        {
          "output_type": "stream",
          "name": "stdout",
          "text": [
            "Help on Car in module __main__ object:\n",
            "\n",
            "class Car(builtins.object)\n",
            " |  Car(make: str, model: str, year: int) -> None\n",
            " |  \n",
            " |  자동차 객체를 나타내는 클래스. 자동차의 제조사, 모델, 연도 및 주행 거리를 추적합니다.\n",
            " |  \n",
            " |  Methods defined here:\n",
            " |  \n",
            " |  __init__(self, make: str, model: str, year: int) -> None\n",
            " |      객체가 생성될 때 호출되며 속성을 초기화합니다.\n",
            " |      \n",
            " |      Args:\n",
            " |          make (str): 자동차 제조사\n",
            " |          model (str): 자동차 모델\n",
            " |          year (int): 제조 연도\n",
            " |  \n",
            " |  get_description(self) -> str\n",
            " |      자동차의 전체 설명을 반환합니다.\n",
            " |      \n",
            " |      Returns:\n",
            " |          str: 제조 연도, 제조사, 모델 정보를 포함한 문자열\n",
            " |  \n",
            " |  increment_kilometer(self, kilometers: int) -> None\n",
            " |      주행 거리를 일정량 증가시킵니다.\n",
            " |      \n",
            " |      Args:\n",
            " |          kilometers (int): 증가시킬 주행 거리 값. 양수여야 함.\n",
            " |  \n",
            " |  read_kilometer(self) -> None\n",
            " |      현재 주행 거리를 출력합니다.\n",
            " |  \n",
            " |  update_kilometer(self, kilometers: int) -> None\n",
            " |      주행 거리를 새로운 값으로 업데이트합니다.\n",
            " |      새로운 값이 기존 값보다 클 경우에만 업데이트됩니다.\n",
            " |      \n",
            " |      Args:\n",
            " |          kilometers (int): 업데이트하려는 주행 거리 값\n",
            " |  \n",
            " |  ----------------------------------------------------------------------\n",
            " |  Data descriptors defined here:\n",
            " |  \n",
            " |  __dict__\n",
            " |      dictionary for instance variables (if defined)\n",
            " |  \n",
            " |  __weakref__\n",
            " |      list of weak references to the object (if defined)\n",
            "\n"
          ]
        }
      ]
    },
    {
      "cell_type": "markdown",
      "source": [
        "## 다형성 (Polymorphism)"
      ],
      "metadata": {
        "id": "eXMotJb4r-xX"
      }
    },
    {
      "cell_type": "markdown",
      "source": [
        "### 클래스 설계 하다보면 부딪히는 흔한 문제\n",
        "- 메소드명이 같을 때\n",
        "- 오버라이딩, 다형성"
      ],
      "metadata": {
        "id": "g5zaw2xWMv6b"
      }
    },
    {
      "cell_type": "code",
      "source": [
        "# 부모 클래스\n",
        "class 동물 :\n",
        "    def 울음소리(self) :\n",
        "        return \"동물 울음소리\"\n",
        "\n",
        "# 지식 클래스\n",
        "class 강아지(동물) :\n",
        "    def 울음소리(self) :\n",
        "        return \"멍멍\"\n",
        "\n",
        "class 고양이(동물) :\n",
        "    def 울음소리(self) :\n",
        "        return \"야옹\""
      ],
      "metadata": {
        "id": "ZHWQJeXdwBsX"
      },
      "execution_count": null,
      "outputs": []
    },
    {
      "cell_type": "code",
      "source": [
        "# 다형성 함수\n",
        "def make_sound(animal) :\n",
        "    print(animal.울음소리())"
      ],
      "metadata": {
        "id": "3RlXzjVFyCme"
      },
      "execution_count": null,
      "outputs": []
    },
    {
      "cell_type": "code",
      "source": [
        "# 객체 생성\n",
        "dog = 강아지()\n",
        "cat = 고양이()"
      ],
      "metadata": {
        "id": "zLANrfjLyuar"
      },
      "execution_count": null,
      "outputs": []
    },
    {
      "cell_type": "code",
      "source": [
        "make_sound(cat)"
      ],
      "metadata": {
        "colab": {
          "base_uri": "https://localhost:8080/"
        },
        "id": "hs1-M0be0hF1",
        "outputId": "f5e4aa1b-17f4-4ce2-f1aa-406e888bdd01"
      },
      "execution_count": null,
      "outputs": [
        {
          "output_type": "stream",
          "name": "stdout",
          "text": [
            "야옹\n"
          ]
        }
      ]
    },
    {
      "cell_type": "markdown",
      "source": [
        "### 메서드 오버라이딩"
      ],
      "metadata": {
        "id": "sC1C0wyO0lnR"
      }
    },
    {
      "cell_type": "code",
      "source": [
        "from math import pi\n",
        "\n",
        "# 상위 클래스 (모양)\n",
        "class Shape:\n",
        "    def __init__(self, name):\n",
        "        self.name = name\n",
        "\n",
        "    def area(self):\n",
        "        pass\n",
        "\n",
        "    def fact(self):\n",
        "        return \"나는 2차원 도형\"\n",
        "\n",
        "# 사각형 하위 클래스\n",
        "class Square(Shape):\n",
        "    def __init__(self, length):\n",
        "        super().__init__(\"Square\")\n",
        "        self.length = length\n",
        "\n",
        "    def area(self):\n",
        "        return self.length ** 2\n",
        "\n",
        "# 원 하위 클래스\n",
        "class Circle(Shape):\n",
        "    def __init__(self, radius):\n",
        "        super().__init__(\"Circle\")\n",
        "        self.radius = radius\n",
        "\n",
        "    def area(self):\n",
        "        return pi*self.radius**2"
      ],
      "metadata": {
        "id": "Wk-bLaLd0oSp"
      },
      "execution_count": null,
      "outputs": []
    },
    {
      "cell_type": "code",
      "source": [
        "a = Square(4)\n",
        "print(a.area())"
      ],
      "metadata": {
        "colab": {
          "base_uri": "https://localhost:8080/"
        },
        "id": "H2v0Ojt50xCR",
        "outputId": "de955f17-3761-45a9-caa0-7ba8c97cabd6"
      },
      "execution_count": null,
      "outputs": [
        {
          "output_type": "stream",
          "name": "stdout",
          "text": [
            "None\n"
          ]
        }
      ]
    },
    {
      "cell_type": "code",
      "source": [
        "b = Circle(4)\n",
        "print(b.area())"
      ],
      "metadata": {
        "colab": {
          "base_uri": "https://localhost:8080/"
        },
        "id": "Qxnivj-g4K-g",
        "outputId": "09376e64-a268-4e23-e8c5-c4b22a7e37de"
      },
      "execution_count": null,
      "outputs": [
        {
          "output_type": "stream",
          "name": "stdout",
          "text": [
            "50.26548245743669\n"
          ]
        }
      ]
    },
    {
      "cell_type": "code",
      "source": [
        "class A:\n",
        "    def __init__(self, value):\n",
        "        self.value = value\n",
        "\n",
        "    # 연산자 오버로딩\n",
        "    def __add__(self, other) :\n",
        "        result = self.value + other.value\n",
        "        return A(result)\n",
        "\n",
        "a1 = A(2)\n",
        "a2 = A(3)\n",
        "\n",
        "a3 = a1 + a2\n",
        "print(a3.value)"
      ],
      "metadata": {
        "colab": {
          "base_uri": "https://localhost:8080/"
        },
        "id": "E0yPKlKG5kEm",
        "outputId": "ee8ebd59-0ea7-41d2-9413-31c361f3c0ee"
      },
      "execution_count": null,
      "outputs": [
        {
          "output_type": "stream",
          "name": "stdout",
          "text": [
            "5\n"
          ]
        }
      ]
    },
    {
      "cell_type": "markdown",
      "source": [
        "# 예제 2. 책 관리 시스템\n",
        "- 여러분은 간단한 책 관리 시스템을 만들어야 합니다. Book 클래스를 사용하여 책의 정보를 저장하고, 책을 읽고, 현재 페이지를 업데이트하는 프로그램을 작성하세요.\n",
        "- 여러 Book 객체를 생성하고, 각 책에 대해 다음 작업을 수행하세요.\n",
        "    + 책의 설명을 출력하세요.\n",
        "    + 책을 읽고, 현재 페이지를 업데이트하고, 책 읽기 진행 상황을 출력하세요.\n",
        "    + 읽을 페이지 수가 전체 페이지 수를 초과할 경우, 오류 메시지를 출력하세요."
      ],
      "metadata": {
        "id": "uCdDpEHG-FcU"
      }
    },
    {
      "cell_type": "code",
      "source": [
        "class Book:\n",
        "    def __init__(self, title, author, pages):\n",
        "        self.title = title\n",
        "        self.author = author\n",
        "        self.pages = pages\n",
        "        self.current_page = 0\n",
        "\n",
        "    def get_description(self):\n",
        "        return f\"'{self.title}' (저자: {self.author}, 총 {self.pages}페이지)\"\n",
        "\n",
        "    def read(self, pages):\n",
        "        if self.current_page + pages <= self.pages:\n",
        "            self.current_page += pages\n",
        "            print(f\"{pages}페이지를 읽었습니다. 현재 {self.current_page}페이지에 있습니다.\")\n",
        "        else:\n",
        "            print(f\"책의 총 페이지 수를 초과할 수 없습니다!\")\n",
        "\n",
        "    def book_progress(self):\n",
        "        print(f\"이 책은 총 {self.pages}페이지이며, 현재 {self.current_page}페이지를 읽었습니다.\")\n",
        "\n",
        "book1 = Book('A', 'evan', 300)\n",
        "book1.set_description()"
      ],
      "metadata": {
        "colab": {
          "base_uri": "https://localhost:8080/",
          "height": 182
        },
        "id": "h_YHKJmH_Vk8",
        "outputId": "52236d0d-f777-4a20-e262-4d194f24ebd3"
      },
      "execution_count": null,
      "outputs": [
        {
          "output_type": "error",
          "ename": "AttributeError",
          "evalue": "'Book' object has no attribute 'set_description'",
          "traceback": [
            "\u001b[0;31m---------------------------------------------------------------------------\u001b[0m",
            "\u001b[0;31mAttributeError\u001b[0m                            Traceback (most recent call last)",
            "\u001b[0;32m<ipython-input-29-8e643ab88d6d>\u001b[0m in \u001b[0;36m<cell line: 22>\u001b[0;34m()\u001b[0m\n\u001b[1;32m     20\u001b[0m \u001b[0;34m\u001b[0m\u001b[0m\n\u001b[1;32m     21\u001b[0m \u001b[0mbook1\u001b[0m \u001b[0;34m=\u001b[0m \u001b[0mBook\u001b[0m\u001b[0;34m(\u001b[0m\u001b[0;34m'A'\u001b[0m\u001b[0;34m,\u001b[0m \u001b[0;34m'evan'\u001b[0m\u001b[0;34m,\u001b[0m \u001b[0;36m300\u001b[0m\u001b[0;34m)\u001b[0m\u001b[0;34m\u001b[0m\u001b[0;34m\u001b[0m\u001b[0m\n\u001b[0;32m---> 22\u001b[0;31m \u001b[0mbook1\u001b[0m\u001b[0;34m.\u001b[0m\u001b[0mset_description\u001b[0m\u001b[0;34m(\u001b[0m\u001b[0;34m)\u001b[0m\u001b[0;34m\u001b[0m\u001b[0;34m\u001b[0m\u001b[0m\n\u001b[0m",
            "\u001b[0;31mAttributeError\u001b[0m: 'Book' object has no attribute 'set_description'"
          ]
        }
      ]
    },
    {
      "cell_type": "code",
      "source": [
        "# 여러 책 인스턴스 생성\n",
        "book1 = Book('오만과 편견', '제인 오스틴', 279)\n",
        "book2 = Book('앵무새 죽이기', '하퍼 리', 281)\n",
        "book3 = Book('위대한 개츠비', 'F. 스콧 피츠제럴드', 180)"
      ],
      "metadata": {
        "id": "jdmjOV8nEnaW"
      },
      "execution_count": null,
      "outputs": []
    },
    {
      "cell_type": "code",
      "source": [
        "# 책 정보 출력\n",
        "print(book1.get_description())\n",
        "print(book2.get_description())\n",
        "print(book3.get_description())\n",
        "\n",
        "# 책 읽기\n",
        "book1.read(50)\n",
        "book1.book_progress()\n",
        "\n",
        "book2.read(30)\n",
        "book2.book_progress()\n",
        "\n",
        "book3.read(100)\n",
        "book3.book_progress()\n",
        "\n",
        "# 페이지 초과 시도\n",
        "book1.read(250)\n",
        "book1.book_progress()"
      ],
      "metadata": {
        "colab": {
          "base_uri": "https://localhost:8080/"
        },
        "id": "f3nHDFr0Erch",
        "outputId": "d9ee338c-4edc-4de0-fba5-56a8351566b6"
      },
      "execution_count": null,
      "outputs": [
        {
          "output_type": "stream",
          "name": "stdout",
          "text": [
            "'오만과 편견' (저자: 제인 오스틴, 총 279페이지)\n",
            "'앵무새 죽이기' (저자: 하퍼 리, 총 281페이지)\n",
            "'위대한 개츠비' (저자: F. 스콧 피츠제럴드, 총 180페이지)\n",
            "50페이지를 읽었습니다. 현재 50페이지에 있습니다.\n",
            "이 책은 총 279페이지이며, 현재 50페이지를 읽었습니다.\n",
            "30페이지를 읽었습니다. 현재 30페이지에 있습니다.\n",
            "이 책은 총 281페이지이며, 현재 30페이지를 읽었습니다.\n",
            "100페이지를 읽었습니다. 현재 100페이지에 있습니다.\n",
            "이 책은 총 180페이지이며, 현재 100페이지를 읽었습니다.\n",
            "책의 총 페이지 수를 초과할 수 없습니다!\n",
            "이 책은 총 279페이지이며, 현재 50페이지를 읽었습니다.\n"
          ]
        }
      ]
    },
    {
      "cell_type": "markdown",
      "source": [
        "### 우주선 문제\n",
        "- `Spaceship` 클래스를 정의하세요.\n",
        "- 속성\n",
        "    + `color (str):` 우주선의 색상\n",
        "    + `speed (int):` 우주선의 속도\n",
        "    + `passengers (int):` 우주선의 탑승 인원 수\n",
        "- 메서드\n",
        "    + `__init__(self, color: str, speed: int, passengers: int):` 색상, 속도, 탑승 인원 수를 초기화합니다.\n",
        "    + `get_color(self) -> str:` 색상을 반환합니다.\n",
        "    + `set_color(self, color: str):` 색상을 설정합니다.\n",
        "    + `get_speed(self) -> int:` 속도를 반환합니다.\n",
        "    + `set_speed(self, speed: int):` 속도를 설정합니다.\n",
        "    + `get_passengers(self) -> int:` 탑승 인원 수를 반환합니다.\n",
        "    + `set_passengers(self, passengers: int):` 탑승 인원 수를 설정합니다.\n",
        "    + `add_passenger(self):` 탑승 인원 수를 N명 추가합니다.\n",
        "    + `remove_passenger(self):` 탑승 인원 수를 N명 감소시킵니다. 탑승 인원 수가 0명 이하로 내려갈 수 없습니다.\n",
        "    + `increase_speed(self, amount: int):` 속도를 amount만큼 증가시킵니다.\n",
        "    + `decrease_speed(self, amount: int):` 속도를 amount만큼 감소시킵니다. 속도가 0 이하로 내려갈 수 없습니다.\n",
        "    + `get_info(self) -> str:` 현재 우주선의 상태 정보를 반환합니다.\n",
        "\n",
        "## 시뮬레이션 테스트\n",
        "- 시뮬레이션 프로그램을 작성하세요.\n",
        "    + 사용자는 다음 작업을 선택할 수 있습니다:\n",
        "    + 우주선의 색상을 설정합니다.\n",
        "    + 속도를 증가시킵니다.\n",
        "    + 속도를 감소시킵니다.\n",
        "    + 탑승 인원 수를 N명 추가합니다.\n",
        "    + 탑승 인원 수를 N명 감소합니다.\n",
        "    + 시뮬레이션을 종료합니다."
      ],
      "metadata": {
        "id": "3p3BQWt5Hx48"
      }
    },
    {
      "cell_type": "code",
      "source": [
        "class Spaceship:\n",
        "    def __init__(self, color, speed, passenger):\n",
        "        self.color = color  # 우주선의 색상\n",
        "        self.speed = speed  # 우주선의 속도\n",
        "        self.passenger = passenger  # 우주선의 탑승 인원 수\n",
        "\n",
        "    # 색상을 반환하는 메소드\n",
        "    def get_color(self) :\n",
        "        return f\"우주선 색상 : {self.color}\"\n",
        "\n",
        "    # 색상을 설정하는 메소드\n",
        "    def set_color(self, color) :\n",
        "        self.color = color\n",
        "        return f\"우주선 색상 : {self.color}\"\n",
        "\n",
        "    # 속도를 반환하는 메소드\n",
        "    def get_speed(self):\n",
        "        return f\"우주선 속도 : {self.speed}\"\n",
        "\n",
        "    # 속도를 설정하는 메소드\n",
        "    def set_speed(self, speed) :\n",
        "        self.speed = speed\n",
        "        return f\"우주선 속도 : {self.speed}\"\n",
        "\n",
        "    # 탑승 인원 수를 반환하는 메소드\n",
        "    def get_passenges(self) :\n",
        "        return f\"우주선 탑승 인원수 : {self.passenger}\"\n",
        "\n",
        "    # 탑승 인원 수를 설정하는 메소드\n",
        "    def set_passenges(self, passenger) :\n",
        "        self.passenger = passenger\n",
        "        return f\"우주선 탑승 인원수 : {self.passenger}\"\n",
        "\n",
        "    # 탑승 인원 수를 N명 추가하는 메소드\n",
        "    def add_passenges(self, passenger ):\n",
        "        self.passenger += passenger\n",
        "        return f\"우주선 탑승 인원수 : {self.passenger}\"\n",
        "\n",
        "    # 탑승 인원 수를 N명 감소시키는 메소드 (단, 탑승 인원 수가 0명 이하로 내려갈 수 없음)\n",
        "    def remove_passenges(self, passenger) :\n",
        "        if self.passenger - passenger >= 0 :\n",
        "            self.passenger -= passenger\n",
        "            print(f\"우주선 탑승 인원수 : {self.passenger}\")\n",
        "        else :\n",
        "            print(f\"탑승 인원 수가 0명 이하로 내려갈 수는 없습니다!\")\n",
        "\n",
        "    # 속도를 amount만큼 증가시키는 메소드\n",
        "    def increase_speed(self, amount) :\n",
        "        self.speed += amount\n",
        "        return f\"우주선 속도 : {self.speed}\"\n",
        "\n",
        "    # 속도를 amount만큼 감소시키는 메소드 (단, 속도가 0 이하로 내려갈 수 없음)\n",
        "    def decrease_speed(self, amount) :\n",
        "        if self.speed - amount >= 0 :\n",
        "            self.speed -= amount\n",
        "            print(f\"우주선 속도 : {self.speed}\")\n",
        "        else :\n",
        "            print(f\"속도가 0 이하로 내려갈 수는 없습니다!\")\n",
        "\n",
        "    # 현재 우주선의 상태 정보를 반환하는 메소드\n",
        "    def get_info(self) :\n",
        "        return f\"우주선 색상 : {self.color} 우주선 속도 : {self.speed} 우주선 탑승 인원수 : {self.passenger}\""
      ],
      "metadata": {
        "id": "ISzeyHhmYxPi"
      },
      "execution_count": 36,
      "outputs": []
    },
    {
      "cell_type": "code",
      "source": [
        "def simulate_spaceship():\n",
        "    spaceship = Spaceship(\"Red\", 10000, 5)\n",
        "\n",
        "    while True:\n",
        "        print(\"\\n현재 우주선 상태:\")\n",
        "        print(spaceship.get_info())\n",
        "\n",
        "        print(\"\\n무엇을 하시겠습니까?\")\n",
        "        print(\"1. 색상 설정\")\n",
        "        print(\"2. 속도 증가\")\n",
        "        print(\"3. 속도 감소\")\n",
        "        print(\"4. 탑승인원 추가\")\n",
        "        print(\"5. 탑승인원 하차\")\n",
        "        print(\"6. 시뮬레이션 종료\")\n",
        "\n",
        "        choice = input(\"선택을 입력하세요 (1-6): \")\n",
        "\n",
        "        if choice == '1':\n",
        "            color = input(\"새 색상을 입력하세요: \")\n",
        "            spaceship.set_color(color)\n",
        "            print(f\"색상이 {color}(으)로 변경되었습니다\")\n",
        "\n",
        "        elif choice == '2':\n",
        "            amount = int(input(\"속도를 얼마나 증가시키겠습니까?: \"))\n",
        "            spaceship.increase_speed(amount)\n",
        "\n",
        "        elif choice == '3':\n",
        "            amount = int(input(\"속도를 얼마나 감소시키겠습니까?: \"))\n",
        "            spaceship.decrease_speed(amount)\n",
        "\n",
        "        elif choice == '4':\n",
        "            number = int(input(\"추가할 탑승인원 수를 입력하세요: \"))\n",
        "            spaceship.add_passenger(number)\n",
        "\n",
        "        elif choice == '5':\n",
        "            number = int(input(\"하차할 탑승인원 수를 입력하세요: \"))\n",
        "            spaceship.remove_passenger(number)\n",
        "\n",
        "        elif choice == '6':\n",
        "            print(\"시뮬레이션을 종료합니다.\")\n",
        "            break\n",
        "\n",
        "        else:\n",
        "            print(\"잘못된 선택입니다. 1에서 6 사이의 숫자를 입력하세요.\")\n",
        "\n",
        "# 시뮬레이션 실행\n",
        "simulate_spaceship()"
      ],
      "metadata": {
        "colab": {
          "base_uri": "https://localhost:8080/",
          "height": 799
        },
        "id": "CtJZwLL6bugJ",
        "outputId": "b35f7436-ffea-4131-dd56-ec32dba93508"
      },
      "execution_count": 37,
      "outputs": [
        {
          "name": "stdout",
          "output_type": "stream",
          "text": [
            "\n",
            "현재 우주선 상태:\n",
            "우주선 색상 : Red 우주선 속도 : 10000 우주선 탑승 인원수 : 5\n",
            "\n",
            "무엇을 하시겠습니까?\n",
            "1. 색상 설정\n",
            "2. 속도 증가\n",
            "3. 속도 감소\n",
            "4. 탑승인원 추가\n",
            "5. 탑승인원 하차\n",
            "6. 시뮬레이션 종료\n",
            "선택을 입력하세요 (1-6): 1\n",
            "새 색상을 입력하세요: red\n",
            "색상이 red(으)로 변경되었습니다\n",
            "\n",
            "현재 우주선 상태:\n",
            "우주선 색상 : red 우주선 속도 : 10000 우주선 탑승 인원수 : 5\n",
            "\n",
            "무엇을 하시겠습니까?\n",
            "1. 색상 설정\n",
            "2. 속도 증가\n",
            "3. 속도 감소\n",
            "4. 탑승인원 추가\n",
            "5. 탑승인원 하차\n",
            "6. 시뮬레이션 종료\n",
            "선택을 입력하세요 (1-6): 4\n",
            "추가할 탑승인원 수를 입력하세요: 4\n"
          ]
        },
        {
          "output_type": "error",
          "ename": "AttributeError",
          "evalue": "'Spaceship' object has no attribute 'add_passenger'",
          "traceback": [
            "\u001b[0;31m---------------------------------------------------------------------------\u001b[0m",
            "\u001b[0;31mAttributeError\u001b[0m                            Traceback (most recent call last)",
            "\u001b[0;32m<ipython-input-37-6cad32e3587b>\u001b[0m in \u001b[0;36m<cell line: 47>\u001b[0;34m()\u001b[0m\n\u001b[1;32m     45\u001b[0m \u001b[0;34m\u001b[0m\u001b[0m\n\u001b[1;32m     46\u001b[0m \u001b[0;31m# 시뮬레이션 실행\u001b[0m\u001b[0;34m\u001b[0m\u001b[0;34m\u001b[0m\u001b[0m\n\u001b[0;32m---> 47\u001b[0;31m \u001b[0msimulate_spaceship\u001b[0m\u001b[0;34m(\u001b[0m\u001b[0;34m)\u001b[0m\u001b[0;34m\u001b[0m\u001b[0;34m\u001b[0m\u001b[0m\n\u001b[0m",
            "\u001b[0;32m<ipython-input-37-6cad32e3587b>\u001b[0m in \u001b[0;36msimulate_spaceship\u001b[0;34m()\u001b[0m\n\u001b[1;32m     31\u001b[0m         \u001b[0;32melif\u001b[0m \u001b[0mchoice\u001b[0m \u001b[0;34m==\u001b[0m \u001b[0;34m'4'\u001b[0m\u001b[0;34m:\u001b[0m\u001b[0;34m\u001b[0m\u001b[0;34m\u001b[0m\u001b[0m\n\u001b[1;32m     32\u001b[0m             \u001b[0mnumber\u001b[0m \u001b[0;34m=\u001b[0m \u001b[0mint\u001b[0m\u001b[0;34m(\u001b[0m\u001b[0minput\u001b[0m\u001b[0;34m(\u001b[0m\u001b[0;34m\"추가할 탑승인원 수를 입력하세요: \"\u001b[0m\u001b[0;34m)\u001b[0m\u001b[0;34m)\u001b[0m\u001b[0;34m\u001b[0m\u001b[0;34m\u001b[0m\u001b[0m\n\u001b[0;32m---> 33\u001b[0;31m             \u001b[0mspaceship\u001b[0m\u001b[0;34m.\u001b[0m\u001b[0madd_passenger\u001b[0m\u001b[0;34m(\u001b[0m\u001b[0mnumber\u001b[0m\u001b[0;34m)\u001b[0m\u001b[0;34m\u001b[0m\u001b[0;34m\u001b[0m\u001b[0m\n\u001b[0m\u001b[1;32m     34\u001b[0m \u001b[0;34m\u001b[0m\u001b[0m\n\u001b[1;32m     35\u001b[0m         \u001b[0;32melif\u001b[0m \u001b[0mchoice\u001b[0m \u001b[0;34m==\u001b[0m \u001b[0;34m'5'\u001b[0m\u001b[0;34m:\u001b[0m\u001b[0;34m\u001b[0m\u001b[0;34m\u001b[0m\u001b[0m\n",
            "\u001b[0;31mAttributeError\u001b[0m: 'Spaceship' object has no attribute 'add_passenger'"
          ]
        }
      ]
    },
    {
      "cell_type": "code",
      "source": [
        "# 답\n",
        "\n",
        "class Spaceship:\n",
        "    def __init__(self, color: str, speed: int, passengers: int):\n",
        "        self._color = color\n",
        "        self._speed = speed\n",
        "        self._passengers = passengers\n",
        "\n",
        "    # Color getter and setter\n",
        "    def get_color(self) -> str:\n",
        "        return self._color\n",
        "\n",
        "    def set_color(self, color: str):\n",
        "        self._color = color\n",
        "\n",
        "    # Speed getter and setter\n",
        "    def get_speed(self) -> int:\n",
        "        return self._speed\n",
        "\n",
        "    def set_speed(self, speed: int):\n",
        "        self._speed = speed\n",
        "\n",
        "    # Passengers getter and setter\n",
        "    def get_passengers(self) -> int:\n",
        "        return self._passengers\n",
        "\n",
        "    def set_passengers(self, passengers: int):\n",
        "        self._passengers = passengers\n",
        "\n",
        "    def add_passenger(self, number: int):\n",
        "        self._passengers += number\n",
        "        print(f\"{number}명의 탑승자가 추가되었습니다. 현재 탑승인원: {self._passengers}\")\n",
        "\n",
        "    def remove_passenger(self, number: int):\n",
        "        if self._passengers >= number:\n",
        "            self._passengers -= number\n",
        "            print(f\"{number}명의 탑승자가 하차했습니다. 현재 탑승인원: {self._passengers}\")\n",
        "        else:\n",
        "            print(\"하차할 탑승객 수가 현재 탑승인원보다 많습니다\")\n",
        "\n",
        "    def increase_speed(self, amount: int):\n",
        "        self._speed += amount\n",
        "        print(f\"속도가 {amount}만큼 증가했습니다. 새로운 속도: {self._speed}\")\n",
        "\n",
        "    def decrease_speed(self, amount: int):\n",
        "        if self._speed - amount >= 0:\n",
        "            self._speed -= amount\n",
        "            print(f\"속도가 {amount}만큼 감소했습니다. 새로운 속도: {self._speed}\")\n",
        "        else:\n",
        "            print(\"속도는 음수가 될 수 없습니다\")\n",
        "\n",
        "    def get_info(self) -> str:\n",
        "        return f\"우주선 색상: {self._color}, 속도: {self._speed}, 탑승인원: {self._passengers}\"\n",
        "\n",
        "def simulate_spaceship():\n",
        "    spaceship = Spaceship(\"Red\", 10000, 5)\n",
        "\n",
        "    while True:\n",
        "        print(\"\\n현재 우주선 상태:\")\n",
        "        print(spaceship.get_info())\n",
        "\n",
        "        print(\"\\n무엇을 하시겠습니까?\")\n",
        "        print(\"1. 색상 설정\")\n",
        "        print(\"2. 속도 증가\")\n",
        "        print(\"3. 속도 감소\")\n",
        "        print(\"4. 탑승인원 추가\")\n",
        "        print(\"5. 탑승인원 하차\")\n",
        "        print(\"6. 시뮬레이션 종료\")\n",
        "\n",
        "        choice = input(\"선택을 입력하세요 (1-6): \")\n",
        "\n",
        "        if choice == '1':\n",
        "            color = input(\"새 색상을 입력하세요: \")\n",
        "            spaceship.set_color(color)\n",
        "            print(f\"색상이 {color}(으)로 변경되었습니다\")\n",
        "\n",
        "        elif choice == '2':\n",
        "            amount = int(input(\"속도를 얼마나 증가시키겠습니까?: \"))\n",
        "            spaceship.increase_speed(amount)\n",
        "\n",
        "        elif choice == '3':\n",
        "            amount = int(input(\"속도를 얼마나 감소시키겠습니까?: \"))\n",
        "            spaceship.decrease_speed(amount)\n",
        "\n",
        "        elif choice == '4':\n",
        "            number = int(input(\"추가할 탑승인원 수를 입력하세요: \"))\n",
        "            spaceship.add_passenger(number)\n",
        "\n",
        "        elif choice == '5':\n",
        "            number = int(input(\"하차할 탑승인원 수를 입력하세요: \"))\n",
        "            spaceship.remove_passenger(number)\n",
        "\n",
        "        elif choice == '6':\n",
        "            print(\"시뮬레이션을 종료합니다.\")\n",
        "            break\n",
        "\n",
        "        else:\n",
        "            print(\"잘못된 선택입니다. 1에서 6 사이의 숫자를 입력하세요.\")\n",
        "\n",
        "# 시뮬레이션 실행\n",
        "simulate_spaceship()"
      ],
      "metadata": {
        "colab": {
          "base_uri": "https://localhost:8080/",
          "height": 533
        },
        "id": "JrHl2i92eUMB",
        "outputId": "5d38e5c4-d181-44c1-fb77-d850cf1c9f4c"
      },
      "execution_count": 38,
      "outputs": [
        {
          "output_type": "stream",
          "name": "stdout",
          "text": [
            "\n",
            "현재 우주선 상태:\n",
            "우주선 색상: Red, 속도: 10000, 탑승인원: 5\n",
            "\n",
            "무엇을 하시겠습니까?\n",
            "1. 색상 설정\n",
            "2. 속도 증가\n",
            "3. 속도 감소\n",
            "4. 탑승인원 추가\n",
            "5. 탑승인원 하차\n",
            "6. 시뮬레이션 종료\n"
          ]
        },
        {
          "output_type": "error",
          "ename": "KeyboardInterrupt",
          "evalue": "Interrupted by user",
          "traceback": [
            "\u001b[0;31m---------------------------------------------------------------------------\u001b[0m",
            "\u001b[0;31mKeyboardInterrupt\u001b[0m                         Traceback (most recent call last)",
            "\u001b[0;32m<ipython-input-38-6ed0fa5fe44b>\u001b[0m in \u001b[0;36m<cell line: 101>\u001b[0;34m()\u001b[0m\n\u001b[1;32m     99\u001b[0m \u001b[0;34m\u001b[0m\u001b[0m\n\u001b[1;32m    100\u001b[0m \u001b[0;31m# 시뮬레이션 실행\u001b[0m\u001b[0;34m\u001b[0m\u001b[0;34m\u001b[0m\u001b[0m\n\u001b[0;32m--> 101\u001b[0;31m \u001b[0msimulate_spaceship\u001b[0m\u001b[0;34m(\u001b[0m\u001b[0;34m)\u001b[0m\u001b[0;34m\u001b[0m\u001b[0;34m\u001b[0m\u001b[0m\n\u001b[0m",
            "\u001b[0;32m<ipython-input-38-6ed0fa5fe44b>\u001b[0m in \u001b[0;36msimulate_spaceship\u001b[0;34m()\u001b[0m\n\u001b[1;32m     68\u001b[0m         \u001b[0mprint\u001b[0m\u001b[0;34m(\u001b[0m\u001b[0;34m\"6. 시뮬레이션 종료\"\u001b[0m\u001b[0;34m)\u001b[0m\u001b[0;34m\u001b[0m\u001b[0;34m\u001b[0m\u001b[0m\n\u001b[1;32m     69\u001b[0m \u001b[0;34m\u001b[0m\u001b[0m\n\u001b[0;32m---> 70\u001b[0;31m         \u001b[0mchoice\u001b[0m \u001b[0;34m=\u001b[0m \u001b[0minput\u001b[0m\u001b[0;34m(\u001b[0m\u001b[0;34m\"선택을 입력하세요 (1-6): \"\u001b[0m\u001b[0;34m)\u001b[0m\u001b[0;34m\u001b[0m\u001b[0;34m\u001b[0m\u001b[0m\n\u001b[0m\u001b[1;32m     71\u001b[0m \u001b[0;34m\u001b[0m\u001b[0m\n\u001b[1;32m     72\u001b[0m         \u001b[0;32mif\u001b[0m \u001b[0mchoice\u001b[0m \u001b[0;34m==\u001b[0m \u001b[0;34m'1'\u001b[0m\u001b[0;34m:\u001b[0m\u001b[0;34m\u001b[0m\u001b[0;34m\u001b[0m\u001b[0m\n",
            "\u001b[0;32m/usr/local/lib/python3.10/dist-packages/ipykernel/kernelbase.py\u001b[0m in \u001b[0;36mraw_input\u001b[0;34m(self, prompt)\u001b[0m\n\u001b[1;32m    849\u001b[0m                 \u001b[0;34m\"raw_input was called, but this frontend does not support input requests.\"\u001b[0m\u001b[0;34m\u001b[0m\u001b[0;34m\u001b[0m\u001b[0m\n\u001b[1;32m    850\u001b[0m             )\n\u001b[0;32m--> 851\u001b[0;31m         return self._input_request(str(prompt),\n\u001b[0m\u001b[1;32m    852\u001b[0m             \u001b[0mself\u001b[0m\u001b[0;34m.\u001b[0m\u001b[0m_parent_ident\u001b[0m\u001b[0;34m,\u001b[0m\u001b[0;34m\u001b[0m\u001b[0;34m\u001b[0m\u001b[0m\n\u001b[1;32m    853\u001b[0m             \u001b[0mself\u001b[0m\u001b[0;34m.\u001b[0m\u001b[0m_parent_header\u001b[0m\u001b[0;34m,\u001b[0m\u001b[0;34m\u001b[0m\u001b[0;34m\u001b[0m\u001b[0m\n",
            "\u001b[0;32m/usr/local/lib/python3.10/dist-packages/ipykernel/kernelbase.py\u001b[0m in \u001b[0;36m_input_request\u001b[0;34m(self, prompt, ident, parent, password)\u001b[0m\n\u001b[1;32m    893\u001b[0m             \u001b[0;32mexcept\u001b[0m \u001b[0mKeyboardInterrupt\u001b[0m\u001b[0;34m:\u001b[0m\u001b[0;34m\u001b[0m\u001b[0;34m\u001b[0m\u001b[0m\n\u001b[1;32m    894\u001b[0m                 \u001b[0;31m# re-raise KeyboardInterrupt, to truncate traceback\u001b[0m\u001b[0;34m\u001b[0m\u001b[0;34m\u001b[0m\u001b[0m\n\u001b[0;32m--> 895\u001b[0;31m                 \u001b[0;32mraise\u001b[0m \u001b[0mKeyboardInterrupt\u001b[0m\u001b[0;34m(\u001b[0m\u001b[0;34m\"Interrupted by user\"\u001b[0m\u001b[0;34m)\u001b[0m \u001b[0;32mfrom\u001b[0m \u001b[0;32mNone\u001b[0m\u001b[0;34m\u001b[0m\u001b[0;34m\u001b[0m\u001b[0m\n\u001b[0m\u001b[1;32m    896\u001b[0m             \u001b[0;32mexcept\u001b[0m \u001b[0mException\u001b[0m \u001b[0;32mas\u001b[0m \u001b[0me\u001b[0m\u001b[0;34m:\u001b[0m\u001b[0;34m\u001b[0m\u001b[0;34m\u001b[0m\u001b[0m\n\u001b[1;32m    897\u001b[0m                 \u001b[0mself\u001b[0m\u001b[0;34m.\u001b[0m\u001b[0mlog\u001b[0m\u001b[0;34m.\u001b[0m\u001b[0mwarning\u001b[0m\u001b[0;34m(\u001b[0m\u001b[0;34m\"Invalid Message:\"\u001b[0m\u001b[0;34m,\u001b[0m \u001b[0mexc_info\u001b[0m\u001b[0;34m=\u001b[0m\u001b[0;32mTrue\u001b[0m\u001b[0;34m)\u001b[0m\u001b[0;34m\u001b[0m\u001b[0;34m\u001b[0m\u001b[0m\n",
            "\u001b[0;31mKeyboardInterrupt\u001b[0m: Interrupted by user"
          ]
        }
      ]
    }
  ]
}