{
  "cells": [
    {
      "cell_type": "markdown",
      "metadata": {
        "id": "view-in-github",
        "colab_type": "text"
      },
      "source": [
        "<a href=\"https://colab.research.google.com/github/xuxaraxha/alphaco/blob/main/alphaco_240924.ipynb\" target=\"_parent\"><img src=\"https://colab.research.google.com/assets/colab-badge.svg\" alt=\"Open In Colab\"/></a>"
      ]
    },
    {
      "cell_type": "markdown",
      "metadata": {
        "id": "qTc7uPStsaL9"
      },
      "source": [
        "## 계산기처럼 이용"
      ]
    },
    {
      "cell_type": "markdown",
      "metadata": {
        "id": "XOSF7bFwhSso"
      },
      "source": [
        "### 간단한 사칙 연산"
      ]
    },
    {
      "cell_type": "code",
      "execution_count": null,
      "metadata": {
        "colab": {
          "base_uri": "https://localhost:8080/"
        },
        "id": "bvoLrarZhQaU",
        "outputId": "42b02053-c540-448d-c14d-5853c9aa5ac0"
      },
      "outputs": [
        {
          "data": {
            "text/plain": [
              "2"
            ]
          },
          "execution_count": 1,
          "metadata": {},
          "output_type": "execute_result"
        }
      ],
      "source": [
        "1+1"
      ]
    },
    {
      "cell_type": "code",
      "execution_count": null,
      "metadata": {
        "colab": {
          "base_uri": "https://localhost:8080/"
        },
        "id": "SERJIpOhshZi",
        "outputId": "5d541a6c-02a3-485e-da8c-f2d1915488ce"
      },
      "outputs": [
        {
          "data": {
            "text/plain": [
              "3"
            ]
          },
          "execution_count": 3,
          "metadata": {},
          "output_type": "execute_result"
        }
      ],
      "source": [
        "5-2"
      ]
    },
    {
      "cell_type": "code",
      "execution_count": null,
      "metadata": {
        "colab": {
          "base_uri": "https://localhost:8080/"
        },
        "id": "k82oj2dasjWU",
        "outputId": "98ec9018-d8cd-4adc-f9c9-d365973eae60"
      },
      "outputs": [
        {
          "data": {
            "text/plain": [
              "30"
            ]
          },
          "execution_count": 4,
          "metadata": {},
          "output_type": "execute_result"
        }
      ],
      "source": [
        "15*2"
      ]
    },
    {
      "cell_type": "code",
      "execution_count": null,
      "metadata": {
        "colab": {
          "base_uri": "https://localhost:8080/"
        },
        "id": "Uuu3BpE-sqn7",
        "outputId": "55cd9fbc-18d0-4b2a-e41b-ef3fd474b16c"
      },
      "outputs": [
        {
          "data": {
            "text/plain": [
              "5.0"
            ]
          },
          "execution_count": 5,
          "metadata": {},
          "output_type": "execute_result"
        }
      ],
      "source": [
        "# 실수형으로 결과가 반환됨\n",
        "10 / 2"
      ]
    },
    {
      "cell_type": "markdown",
      "metadata": {
        "id": "lfw9T4Lus8OX"
      },
      "source": [
        "### type()\n",
        "- 각 데이터 자료형의 유형을 알려주는 함수"
      ]
    },
    {
      "cell_type": "code",
      "execution_count": null,
      "metadata": {
        "colab": {
          "base_uri": "https://localhost:8080/"
        },
        "id": "fw1NVmqCtDIa",
        "outputId": "a5b566b0-3b7c-4a9e-d290-d2b00aff0b02"
      },
      "outputs": [
        {
          "data": {
            "text/plain": [
              "int"
            ]
          },
          "execution_count": 6,
          "metadata": {},
          "output_type": "execute_result"
        }
      ],
      "source": [
        "type(3)"
      ]
    },
    {
      "cell_type": "code",
      "execution_count": null,
      "metadata": {
        "colab": {
          "base_uri": "https://localhost:8080/"
        },
        "id": "jeR4MUwotGEb",
        "outputId": "4b7689b2-8c6a-4a73-f169-a7ddcd3b452d"
      },
      "outputs": [
        {
          "data": {
            "text/plain": [
              "float"
            ]
          },
          "execution_count": 7,
          "metadata": {},
          "output_type": "execute_result"
        }
      ],
      "source": [
        "type(3.1)"
      ]
    },
    {
      "cell_type": "code",
      "execution_count": null,
      "metadata": {
        "colab": {
          "base_uri": "https://localhost:8080/",
          "height": 35
        },
        "id": "WqvtJEjYtNw1",
        "outputId": "d20dc118-43fd-4f73-c21a-b05cd56d36d5"
      },
      "outputs": [
        {
          "data": {
            "application/vnd.google.colaboratory.intrinsic+json": {
              "type": "string"
            },
            "text/plain": [
              "'안녕하세요'"
            ]
          },
          "execution_count": 8,
          "metadata": {},
          "output_type": "execute_result"
        }
      ],
      "source": [
        "'안녕하세요'"
      ]
    },
    {
      "cell_type": "code",
      "execution_count": null,
      "metadata": {
        "colab": {
          "base_uri": "https://localhost:8080/",
          "height": 35
        },
        "id": "V-cYq9D2tSjG",
        "outputId": "7e4d1855-c8d3-4734-aa13-aedc736cd127"
      },
      "outputs": [
        {
          "data": {
            "application/vnd.google.colaboratory.intrinsic+json": {
              "type": "string"
            },
            "text/plain": [
              "'안녕하세요'"
            ]
          },
          "execution_count": 9,
          "metadata": {},
          "output_type": "execute_result"
        }
      ],
      "source": [
        "\"안녕하세요\""
      ]
    },
    {
      "cell_type": "code",
      "execution_count": null,
      "metadata": {
        "colab": {
          "base_uri": "https://localhost:8080/"
        },
        "id": "PCspaUlLtbIi",
        "outputId": "8e10c0fc-0b7c-4f1d-bf0a-e916fe1c8ee9"
      },
      "outputs": [
        {
          "data": {
            "text/plain": [
              "str"
            ]
          },
          "execution_count": 11,
          "metadata": {},
          "output_type": "execute_result"
        }
      ],
      "source": [
        "type('5')"
      ]
    },
    {
      "cell_type": "code",
      "execution_count": null,
      "metadata": {
        "colab": {
          "base_uri": "https://localhost:8080/",
          "height": 146
        },
        "id": "JyOOIRW6tVhE",
        "outputId": "8b2f2fa1-5d86-4d02-ff79-b25f0dfc81a2"
      },
      "outputs": [
        {
          "ename": "TypeError",
          "evalue": "unsupported operand type(s) for +: 'int' and 'str'",
          "output_type": "error",
          "traceback": [
            "\u001b[0;31m---------------------------------------------------------------------------\u001b[0m",
            "\u001b[0;31mTypeError\u001b[0m                                 Traceback (most recent call last)",
            "\u001b[0;32m<ipython-input-10-9edc5a0d2d17>\u001b[0m in \u001b[0;36m<cell line: 1>\u001b[0;34m()\u001b[0m\n\u001b[0;32m----> 1\u001b[0;31m \u001b[0;36m3\u001b[0m \u001b[0;34m+\u001b[0m \u001b[0;34m'5'\u001b[0m\u001b[0;34m\u001b[0m\u001b[0;34m\u001b[0m\u001b[0m\n\u001b[0m",
            "\u001b[0;31mTypeError\u001b[0m: unsupported operand type(s) for +: 'int' and 'str'"
          ]
        }
      ],
      "source": [
        "3 + '5'"
      ]
    },
    {
      "cell_type": "markdown",
      "metadata": {
        "id": "x19JdtxluATl"
      },
      "source": [
        "### 거듭 제곱과 나머지"
      ]
    },
    {
      "cell_type": "code",
      "execution_count": null,
      "metadata": {
        "colab": {
          "base_uri": "https://localhost:8080/"
        },
        "id": "6317sP8WuCxr",
        "outputId": "7cf8d759-9c10-4fa5-b174-f461cc0dec68"
      },
      "outputs": [
        {
          "data": {
            "text/plain": [
              "32"
            ]
          },
          "execution_count": 12,
          "metadata": {},
          "output_type": "execute_result"
        }
      ],
      "source": [
        "2 * 2 * 2 * 2 * 2"
      ]
    },
    {
      "cell_type": "code",
      "execution_count": null,
      "metadata": {
        "colab": {
          "base_uri": "https://localhost:8080/"
        },
        "id": "34v6GbXquHmi",
        "outputId": "a23d0a95-4788-4c6b-9361-fb15ef2efa96"
      },
      "outputs": [
        {
          "data": {
            "text/plain": [
              "64"
            ]
          },
          "execution_count": 14,
          "metadata": {},
          "output_type": "execute_result"
        }
      ],
      "source": [
        "2 ** 6"
      ]
    },
    {
      "cell_type": "code",
      "execution_count": null,
      "metadata": {
        "colab": {
          "base_uri": "https://localhost:8080/"
        },
        "id": "sBCx3bIvuNap",
        "outputId": "839afa29-8226-480d-9e47-16e141fa6e57"
      },
      "outputs": [
        {
          "data": {
            "text/plain": [
              "3"
            ]
          },
          "execution_count": 15,
          "metadata": {},
          "output_type": "execute_result"
        }
      ],
      "source": [
        "13 % 5 # 나머지"
      ]
    },
    {
      "cell_type": "code",
      "execution_count": null,
      "metadata": {
        "colab": {
          "base_uri": "https://localhost:8080/"
        },
        "id": "-0RTdj35uOsZ",
        "outputId": "9f4dde2c-5408-4aa8-905c-f4627f258ebd"
      },
      "outputs": [
        {
          "data": {
            "text/plain": [
              "2"
            ]
          },
          "execution_count": 16,
          "metadata": {},
          "output_type": "execute_result"
        }
      ],
      "source": [
        "13 // 5 # 몫"
      ]
    },
    {
      "cell_type": "markdown",
      "metadata": {
        "id": "TPBIbtr0ub7u"
      },
      "source": [
        "### 과학적 표기법"
      ]
    },
    {
      "cell_type": "code",
      "execution_count": null,
      "metadata": {
        "colab": {
          "base_uri": "https://localhost:8080/"
        },
        "id": "eM7Qx83qudnL",
        "outputId": "457d12b6-6c10-400f-fb52-7ca669e88738"
      },
      "outputs": [
        {
          "data": {
            "text/plain": [
              "300000000"
            ]
          },
          "execution_count": 17,
          "metadata": {},
          "output_type": "execute_result"
        }
      ],
      "source": [
        "3 * 10 **8"
      ]
    },
    {
      "cell_type": "code",
      "execution_count": null,
      "metadata": {
        "colab": {
          "base_uri": "https://localhost:8080/"
        },
        "id": "YkBXOFV5ujyL",
        "outputId": "87338449-f295-4714-8db2-940901b1a5c2"
      },
      "outputs": [
        {
          "data": {
            "text/plain": [
              "300000000.0"
            ]
          },
          "execution_count": 18,
          "metadata": {},
          "output_type": "execute_result"
        }
      ],
      "source": [
        "3e8 # 실수형으로 반환"
      ]
    },
    {
      "cell_type": "code",
      "execution_count": null,
      "metadata": {
        "colab": {
          "base_uri": "https://localhost:8080/"
        },
        "id": "ZlkSaYbuuwcB",
        "outputId": "ea921c33-ea9a-4f46-fc86-eb09168ab995"
      },
      "outputs": [
        {
          "data": {
            "text/plain": [
              "0.0003"
            ]
          },
          "execution_count": 22,
          "metadata": {},
          "output_type": "execute_result"
        }
      ],
      "source": [
        "3e-4"
      ]
    },
    {
      "cell_type": "markdown",
      "metadata": {
        "id": "lyCpf8sHr5bM"
      },
      "source": [
        "### 논리연산"
      ]
    },
    {
      "cell_type": "code",
      "execution_count": null,
      "metadata": {
        "colab": {
          "base_uri": "https://localhost:8080/"
        },
        "id": "zQURWy4tr8qr",
        "outputId": "970a53ce-bd70-49f2-e215-3fbcef48693c"
      },
      "outputs": [
        {
          "name": "stdout",
          "output_type": "stream",
          "text": [
            "True\n"
          ]
        }
      ],
      "source": [
        "print(True)"
      ]
    },
    {
      "cell_type": "code",
      "execution_count": 1,
      "metadata": {
        "colab": {
          "base_uri": "https://localhost:8080/"
        },
        "id": "U8xA4iLVWU-W",
        "outputId": "50fdba95-3781-4e74-a25e-1d4442d6bb80"
      },
      "outputs": [
        {
          "output_type": "execute_result",
          "data": {
            "text/plain": [
              "bool"
            ]
          },
          "metadata": {},
          "execution_count": 1
        }
      ],
      "source": [
        "type(True)"
      ]
    },
    {
      "cell_type": "code",
      "execution_count": 2,
      "metadata": {
        "colab": {
          "base_uri": "https://localhost:8080/"
        },
        "id": "y-gCCE5DWU-W",
        "outputId": "dce90665-172e-4a0d-89c4-7d1836cdea52"
      },
      "outputs": [
        {
          "output_type": "stream",
          "name": "stdout",
          "text": [
            "True\n",
            "False\n",
            "False\n"
          ]
        }
      ],
      "source": [
        "print(True and True)\n",
        "print(False and True)\n",
        "print(False and False)"
      ]
    },
    {
      "cell_type": "code",
      "execution_count": 3,
      "metadata": {
        "colab": {
          "base_uri": "https://localhost:8080/"
        },
        "id": "umFkkHdRWU-W",
        "outputId": "1da6c3d0-2acc-46ca-ae9c-fd460b5d2285"
      },
      "outputs": [
        {
          "output_type": "execute_result",
          "data": {
            "text/plain": [
              "True"
            ]
          },
          "metadata": {},
          "execution_count": 3
        }
      ],
      "source": [
        "(5>3) and (6>3)"
      ]
    },
    {
      "cell_type": "code",
      "execution_count": 4,
      "metadata": {
        "colab": {
          "base_uri": "https://localhost:8080/"
        },
        "id": "SyQBaL1FWU-X",
        "outputId": "d631d361-aff7-4f08-ce41-d32aad837458"
      },
      "outputs": [
        {
          "output_type": "execute_result",
          "data": {
            "text/plain": [
              "False"
            ]
          },
          "metadata": {},
          "execution_count": 4
        }
      ],
      "source": [
        "5 == 3"
      ]
    },
    {
      "cell_type": "markdown",
      "metadata": {
        "id": "GKY8yJMUWU-X"
      },
      "source": [
        "## 입력과 출력\n",
        "- 입력 : input()"
      ]
    },
    {
      "cell_type": "code",
      "execution_count": null,
      "metadata": {
        "id": "d-x4I8ELWU-X",
        "outputId": "38ef9940-cdcb-4d16-bc57-b508f412314e"
      },
      "outputs": [
        {
          "name": "stdin",
          "output_type": "stream",
          "text": [
            "임의의 값을 입력하세요 3\n"
          ]
        },
        {
          "name": "stdout",
          "output_type": "stream",
          "text": [
            "3\n"
          ]
        }
      ],
      "source": [
        "x = input(\"임의의 값을 입력하세요\")\n",
        "print(x)"
      ]
    },
    {
      "cell_type": "markdown",
      "source": [
        "### 자료형변환\n",
        "- 문자를 숫자로, 숫자를 문자로, A 자료형에서 D 자료형으로\n",
        "- 대부분이 클래스 or 함수를 활용해서 형변환"
      ],
      "metadata": {
        "id": "L0i58cVkX0DV"
      }
    },
    {
      "cell_type": "code",
      "execution_count": null,
      "metadata": {
        "id": "U6UU7OBuWU-X",
        "outputId": "90e1e75f-659b-40d6-a2df-6a78cd387300"
      },
      "outputs": [
        {
          "name": "stdin",
          "output_type": "stream",
          "text": [
            "임의의 숫자를 입력하세요 4\n",
            "임의의 숫자를 입력하세요 2\n"
          ]
        },
        {
          "name": "stdout",
          "output_type": "stream",
          "text": [
            "6\n"
          ]
        }
      ],
      "source": [
        "x = int(input(\"임의의 숫자를 입력하세요\"))\n",
        "y = int(input(\"임의의 숫자를 입력하세요\"))\n",
        "\n",
        "print(x+y)"
      ]
    },
    {
      "cell_type": "code",
      "source": [
        "x = float(input(\"임의의 숫자를 입력하세요\"))\n",
        "y = float(input(\"임의의 숫자를 입력하세요\"))\n",
        "\n",
        "print(x+y)"
      ],
      "metadata": {
        "colab": {
          "base_uri": "https://localhost:8080/"
        },
        "id": "lcpnxKDBX9Sh",
        "outputId": "0d367bc2-ba20-4445-b2c9-2e2a0f9c4648"
      },
      "execution_count": 6,
      "outputs": [
        {
          "output_type": "stream",
          "name": "stdout",
          "text": [
            "임의의 숫자를 입력하세요4\n",
            "임의의 숫자를 입력하세요3\n",
            "7.0\n"
          ]
        }
      ]
    },
    {
      "cell_type": "markdown",
      "source": [
        "## String"
      ],
      "metadata": {
        "id": "2WAvkB6ocO0e"
      }
    },
    {
      "cell_type": "code",
      "execution_count": 13,
      "metadata": {
        "colab": {
          "base_uri": "https://localhost:8080/"
        },
        "id": "WesjpuoLWU-X",
        "outputId": "b3e52b26-3c6d-43fc-87b6-f46dde933c36"
      },
      "outputs": [
        {
          "output_type": "stream",
          "name": "stdout",
          "text": [
            "abcdefkga\n"
          ]
        }
      ],
      "source": [
        "a = 'abc'\n",
        "b = 'def'\n",
        "c = 'kga'\n",
        "\n",
        "result = a + b + c\n",
        "print(result)"
      ]
    },
    {
      "cell_type": "code",
      "source": [
        "result * 3"
      ],
      "metadata": {
        "colab": {
          "base_uri": "https://localhost:8080/",
          "height": 35
        },
        "id": "cxQDfqqUdq2l",
        "outputId": "b2ec9ef3-8661-41fc-d932-c0610bd17e7c"
      },
      "execution_count": 14,
      "outputs": [
        {
          "output_type": "execute_result",
          "data": {
            "text/plain": [
              "'abcdefkgaabcdefkgaabcdefkga'"
            ],
            "application/vnd.google.colaboratory.intrinsic+json": {
              "type": "string"
            }
          },
          "metadata": {},
          "execution_count": 14
        }
      ]
    },
    {
      "cell_type": "code",
      "source": [
        "a = \"\"\"\n",
        "dklfjsl\n",
        "sdkflsdf\n",
        "sdlkfjsd\n",
        "\"\"\"\n",
        "print(a)"
      ],
      "metadata": {
        "colab": {
          "base_uri": "https://localhost:8080/"
        },
        "id": "7JI_-bTyeFyF",
        "outputId": "76ed0841-0aed-439b-afb9-f8db0efd2fa2"
      },
      "execution_count": 15,
      "outputs": [
        {
          "output_type": "stream",
          "name": "stdout",
          "text": [
            "\n",
            "dklfjsl\n",
            "sdkflsdf\n",
            "sdlkfjsd\n",
            "\n"
          ]
        }
      ]
    },
    {
      "cell_type": "markdown",
      "source": [
        "### 문자형 포맷팅\n",
        "- f-string 포맷팅으로 문자열 만들기"
      ],
      "metadata": {
        "id": "0SDUiboDehAd"
      }
    },
    {
      "cell_type": "code",
      "source": [
        "x = 1\n",
        "a = f'안녕하세요, 저는 숫자 {x}입니다.'\n",
        "print(type(a), a)"
      ],
      "metadata": {
        "colab": {
          "base_uri": "https://localhost:8080/"
        },
        "id": "u0sD30FceSKa",
        "outputId": "ee2c06af-a277-44bf-8dbf-0e4264e29cf0"
      },
      "execution_count": 17,
      "outputs": [
        {
          "output_type": "stream",
          "name": "stdout",
          "text": [
            "<class 'str'> 안녕하세요, 저는 숫자 1입니다.\n"
          ]
        }
      ]
    },
    {
      "cell_type": "markdown",
      "source": [
        "### 인덱싱 및 슬라이싱"
      ],
      "metadata": {
        "id": "Ylu6HQ9Zfvhe"
      }
    },
    {
      "cell_type": "code",
      "source": [
        "a = 'iM Banker DiGital Academy'\n",
        "print(len(a))"
      ],
      "metadata": {
        "colab": {
          "base_uri": "https://localhost:8080/"
        },
        "id": "kunwRBfpfP8F",
        "outputId": "2fa73a41-eff1-4cd8-d413-cbdfa7bf971d"
      },
      "execution_count": 18,
      "outputs": [
        {
          "output_type": "stream",
          "name": "stdout",
          "text": [
            "25\n"
          ]
        }
      ]
    },
    {
      "cell_type": "code",
      "source": [
        "a[4]"
      ],
      "metadata": {
        "colab": {
          "base_uri": "https://localhost:8080/",
          "height": 35
        },
        "id": "uK34kDWagF8z",
        "outputId": "58dc8404-a8a3-486e-923e-45f732a4c6cf"
      },
      "execution_count": 21,
      "outputs": [
        {
          "output_type": "execute_result",
          "data": {
            "text/plain": [
              "'a'"
            ],
            "application/vnd.google.colaboratory.intrinsic+json": {
              "type": "string"
            }
          },
          "metadata": {},
          "execution_count": 21
        }
      ]
    },
    {
      "cell_type": "code",
      "source": [
        "a[len(a)-1]"
      ],
      "metadata": {
        "colab": {
          "base_uri": "https://localhost:8080/",
          "height": 35
        },
        "id": "R2nbfLkJhA3J",
        "outputId": "de018221-d491-4498-ea41-6675a4f028da"
      },
      "execution_count": 23,
      "outputs": [
        {
          "output_type": "execute_result",
          "data": {
            "text/plain": [
              "'y'"
            ],
            "application/vnd.google.colaboratory.intrinsic+json": {
              "type": "string"
            }
          },
          "metadata": {},
          "execution_count": 23
        }
      ]
    },
    {
      "cell_type": "code",
      "source": [
        "a[-1]"
      ],
      "metadata": {
        "colab": {
          "base_uri": "https://localhost:8080/",
          "height": 35
        },
        "id": "MKUkVZuogRe_",
        "outputId": "fbc45056-8099-421a-9a3d-bf82797b8bc6"
      },
      "execution_count": 22,
      "outputs": [
        {
          "output_type": "execute_result",
          "data": {
            "text/plain": [
              "'y'"
            ],
            "application/vnd.google.colaboratory.intrinsic+json": {
              "type": "string"
            }
          },
          "metadata": {},
          "execution_count": 22
        }
      ]
    },
    {
      "cell_type": "markdown",
      "source": [
        "### 슬라이싱"
      ],
      "metadata": {
        "id": "5z1iGHvZhX1o"
      }
    },
    {
      "cell_type": "code",
      "source": [
        "a = 'iM Banker DiGital Academy'\n",
        "print(a[0:10:3])\n",
        "print(a[6:])\n",
        "print(a[:6])"
      ],
      "metadata": {
        "colab": {
          "base_uri": "https://localhost:8080/"
        },
        "id": "errsOtaWg8NE",
        "outputId": "90d34738-1e52-4d08-ba89-028866ca3e4c"
      },
      "execution_count": 29,
      "outputs": [
        {
          "output_type": "stream",
          "name": "stdout",
          "text": [
            "iBk \n",
            "ker DiGital Academy\n",
            "iM Ban\n"
          ]
        }
      ]
    },
    {
      "cell_type": "markdown",
      "source": [
        "### 문자열 수정"
      ],
      "metadata": {
        "id": "_8cFnEOtkqvZ"
      }
    },
    {
      "cell_type": "code",
      "source": [
        "a = 'Aython'\n",
        "\n",
        "print(\"P\" + a[1:])"
      ],
      "metadata": {
        "colab": {
          "base_uri": "https://localhost:8080/"
        },
        "id": "kqhTw55Oha0E",
        "outputId": "5567fb6f-4ab8-4c59-a740-531912842cb5"
      },
      "execution_count": 37,
      "outputs": [
        {
          "output_type": "stream",
          "name": "stdout",
          "text": [
            "Python\n"
          ]
        }
      ]
    },
    {
      "cell_type": "code",
      "source": [
        "a = 'Aython'\n",
        "\n",
        "result = a.replace(\"A\", \"P\")\n",
        "print(result)"
      ],
      "metadata": {
        "colab": {
          "base_uri": "https://localhost:8080/"
        },
        "id": "xIF07x4jjDNN",
        "outputId": "5f62f676-867e-4e64-9856-93496600e853"
      },
      "execution_count": 38,
      "outputs": [
        {
          "output_type": "stream",
          "name": "stdout",
          "text": [
            "Python\n"
          ]
        }
      ]
    },
    {
      "cell_type": "markdown",
      "source": [
        "### 문자열 메서드\n",
        "클래스와 클래스 매서드에 대한 이해"
      ],
      "metadata": {
        "id": "WUEs2o64lzxy"
      }
    },
    {
      "cell_type": "code",
      "source": [
        "b = \"python\"\n",
        "\n",
        "b.upper()"
      ],
      "metadata": {
        "colab": {
          "base_uri": "https://localhost:8080/",
          "height": 35
        },
        "id": "PRJgzZibp8VD",
        "outputId": "ac5aa6e7-a5b1-412f-99df-56fe0f24c622"
      },
      "execution_count": 43,
      "outputs": [
        {
          "output_type": "execute_result",
          "data": {
            "text/plain": [
              "'PYTHON'"
            ],
            "application/vnd.google.colaboratory.intrinsic+json": {
              "type": "string"
            }
          },
          "metadata": {},
          "execution_count": 43
        }
      ]
    },
    {
      "cell_type": "code",
      "source": [
        "sampleTest = \"hello, streamlit\"\n",
        "sampleText = sampleTest.upper()"
      ],
      "metadata": {
        "colab": {
          "base_uri": "https://localhost:8080/",
          "height": 35
        },
        "id": "D9VKmHalqhc3",
        "outputId": "dff692c8-e896-4436-a258-dee31b1f6a66"
      },
      "execution_count": 45,
      "outputs": [
        {
          "output_type": "execute_result",
          "data": {
            "text/plain": [
              "'HELLO, STREAMLIT'"
            ],
            "application/vnd.google.colaboratory.intrinsic+json": {
              "type": "string"
            }
          },
          "metadata": {},
          "execution_count": 45
        }
      ]
    },
    {
      "cell_type": "code",
      "source": [
        "sampleTest = sampleTest.lower()"
      ],
      "metadata": {
        "id": "xuHIrVpctlQj"
      },
      "execution_count": 46,
      "outputs": []
    },
    {
      "cell_type": "code",
      "source": [
        "sampleText = \"hello, streamlit\"\n",
        "sampleText.capitalize()"
      ],
      "metadata": {
        "colab": {
          "base_uri": "https://localhost:8080/",
          "height": 35
        },
        "id": "7_ID794wt11L",
        "outputId": "da153845-ca2e-44a5-8064-3781328c678d"
      },
      "execution_count": 47,
      "outputs": [
        {
          "output_type": "execute_result",
          "data": {
            "text/plain": [
              "'Hello, streamlit'"
            ],
            "application/vnd.google.colaboratory.intrinsic+json": {
              "type": "string"
            }
          },
          "metadata": {},
          "execution_count": 47
        }
      ]
    },
    {
      "cell_type": "code",
      "source": [
        "sampleText = \"hello, streamlit\"\n",
        "sampleText.title()"
      ],
      "metadata": {
        "colab": {
          "base_uri": "https://localhost:8080/",
          "height": 35
        },
        "id": "lLWEUAkqt_CK",
        "outputId": "50c1a96f-6c05-4c92-d048-da742594921d"
      },
      "execution_count": 48,
      "outputs": [
        {
          "output_type": "execute_result",
          "data": {
            "text/plain": [
              "'Hello, Streamlit'"
            ],
            "application/vnd.google.colaboratory.intrinsic+json": {
              "type": "string"
            }
          },
          "metadata": {},
          "execution_count": 48
        }
      ]
    },
    {
      "cell_type": "code",
      "source": [
        "sampleText = \"hello, streamlit\"\n",
        "words = sampleText.split(sep=\",\")\n",
        "words"
      ],
      "metadata": {
        "colab": {
          "base_uri": "https://localhost:8080/"
        },
        "id": "uD_b4rpTuGN0",
        "outputId": "a52cd7de-f15b-4393-8cd8-7836f4d4d591"
      },
      "execution_count": 49,
      "outputs": [
        {
          "output_type": "execute_result",
          "data": {
            "text/plain": [
              "['hello', ' streamlit']"
            ]
          },
          "metadata": {},
          "execution_count": 49
        }
      ]
    },
    {
      "cell_type": "code",
      "source": [
        "sampleText = \"hello, streamlit\"\n",
        "words = sampleText.split()\n",
        "words"
      ],
      "metadata": {
        "colab": {
          "base_uri": "https://localhost:8080/"
        },
        "id": "7-wRgPxPuRel",
        "outputId": "36c48452-d1df-41e3-e4a2-e744201184ed"
      },
      "execution_count": 50,
      "outputs": [
        {
          "output_type": "execute_result",
          "data": {
            "text/plain": [
              "['hello,', 'streamlit']"
            ]
          },
          "metadata": {},
          "execution_count": 50
        }
      ]
    },
    {
      "cell_type": "code",
      "source": [
        "sampleText = \"hello,stream,lit\"\n",
        "words = sampleText.split(sep=\",\")\n",
        "type(words)"
      ],
      "metadata": {
        "colab": {
          "base_uri": "https://localhost:8080/"
        },
        "id": "xUOX3eZfvmnk",
        "outputId": "e49f099f-316f-4725-a673-e376d6422979"
      },
      "execution_count": 51,
      "outputs": [
        {
          "output_type": "execute_result",
          "data": {
            "text/plain": [
              "list"
            ]
          },
          "metadata": {},
          "execution_count": 51
        }
      ]
    },
    {
      "cell_type": "code",
      "source": [
        "sampleList = ['hello', \"streamlit\"]\n",
        "text = \", \".join(sampleList)\n",
        "text"
      ],
      "metadata": {
        "colab": {
          "base_uri": "https://localhost:8080/",
          "height": 35
        },
        "id": "_72l8e2Hxua2",
        "outputId": "300c674c-64bf-4b04-b1f9-52c8973ca1d0"
      },
      "execution_count": 53,
      "outputs": [
        {
          "output_type": "execute_result",
          "data": {
            "text/plain": [
              "'hello, streamlit'"
            ],
            "application/vnd.google.colaboratory.intrinsic+json": {
              "type": "string"
            }
          },
          "metadata": {},
          "execution_count": 53
        }
      ]
    },
    {
      "cell_type": "markdown",
      "source": [
        "### 시퀀스 자료형 확인\n",
        "- 인덱싱과 슬라이싱이 가능함\n",
        "- 반복문 사용할 때 기초 자료형 확인"
      ],
      "metadata": {
        "id": "w0MeswI_4txR"
      }
    },
    {
      "cell_type": "code",
      "source": [
        "from collections.abc import Sequence\n",
        "\n",
        "my_num = 100\n",
        "my_list = [1, 2, 3]\n",
        "my_string = \"hello\"\n",
        "\n",
        "is_num = isinstance(my_num, Sequence)\n",
        "is_list = isinstance(my_list, Sequence)\n",
        "is_string = isinstance(my_string, Sequence)\n",
        "\n",
        "print(is_num)\n",
        "print(is_list)\n",
        "print(is_string)"
      ],
      "metadata": {
        "colab": {
          "base_uri": "https://localhost:8080/"
        },
        "id": "03sOjWDU4Cf5",
        "outputId": "c0fa9ca2-5296-45c5-afcb-f9aa9ea3598f"
      },
      "execution_count": 54,
      "outputs": [
        {
          "output_type": "stream",
          "name": "stdout",
          "text": [
            "False\n",
            "True\n",
            "True\n"
          ]
        }
      ]
    },
    {
      "cell_type": "markdown",
      "source": [
        "## List"
      ],
      "metadata": {
        "id": "xud7O6jE4-F-"
      }
    },
    {
      "cell_type": "code",
      "source": [
        "a = [0,1,2,3,4,5,6,7,8]\n",
        "print(a[0])\n",
        "print(a[0:8])"
      ],
      "metadata": {
        "colab": {
          "base_uri": "https://localhost:8080/"
        },
        "id": "qpitkvecx88N",
        "outputId": "9828f58d-05da-4b0a-be7c-933d9ad66741"
      },
      "execution_count": 58,
      "outputs": [
        {
          "output_type": "stream",
          "name": "stdout",
          "text": [
            "0\n",
            "[0, 1, 2, 3, 4, 5, 6, 7]\n"
          ]
        }
      ]
    },
    {
      "cell_type": "code",
      "source": [
        "a = [0, 1, 2, [\"Python\", \"Hello\"], 3, 4, 5]\n",
        "a[3][1][1]"
      ],
      "metadata": {
        "colab": {
          "base_uri": "https://localhost:8080/",
          "height": 35
        },
        "id": "emnkJHL148QN",
        "outputId": "dff34486-2494-4265-c909-24740d87f2bf"
      },
      "execution_count": 62,
      "outputs": [
        {
          "output_type": "execute_result",
          "data": {
            "text/plain": [
              "'e'"
            ],
            "application/vnd.google.colaboratory.intrinsic+json": {
              "type": "string"
            }
          },
          "metadata": {},
          "execution_count": 62
        }
      ]
    },
    {
      "cell_type": "code",
      "source": [
        "a = [\"iM\", \"뱅크\"]\n",
        "a.append(\"아카데미\")\n",
        "a"
      ],
      "metadata": {
        "colab": {
          "base_uri": "https://localhost:8080/"
        },
        "id": "50BZErnw5jGK",
        "outputId": "b310c452-dff0-4df0-8906-291121110be7"
      },
      "execution_count": 63,
      "outputs": [
        {
          "output_type": "execute_result",
          "data": {
            "text/plain": [
              "['iM', '뱅크', '아카데미']"
            ]
          },
          "metadata": {},
          "execution_count": 63
        }
      ]
    },
    {
      "cell_type": "code",
      "source": [
        "a = [100, 200]\n",
        "a.append([300, 400])\n",
        "a"
      ],
      "metadata": {
        "colab": {
          "base_uri": "https://localhost:8080/"
        },
        "id": "sDJ2d5de6Rgt",
        "outputId": "212bb1f3-4790-402c-e860-ca39606dc7d0"
      },
      "execution_count": 66,
      "outputs": [
        {
          "output_type": "execute_result",
          "data": {
            "text/plain": [
              "[100, 200, [300, 400]]"
            ]
          },
          "metadata": {},
          "execution_count": 66
        }
      ]
    },
    {
      "cell_type": "code",
      "source": [
        "a = [100, 200]\n",
        "a.extend([300, 400])\n",
        "a"
      ],
      "metadata": {
        "colab": {
          "base_uri": "https://localhost:8080/"
        },
        "id": "kSun_n3Y6itz",
        "outputId": "9d6b7715-e48e-4c4a-a21f-499515276fc1"
      },
      "execution_count": 67,
      "outputs": [
        {
          "output_type": "execute_result",
          "data": {
            "text/plain": [
              "[100, 200, 300, 400]"
            ]
          },
          "metadata": {},
          "execution_count": 67
        }
      ]
    },
    {
      "cell_type": "markdown",
      "source": [
        "### 리스트 값 변경 및 삭제"
      ],
      "metadata": {
        "id": "9Y4q7v5q7keK"
      }
    },
    {
      "cell_type": "code",
      "source": [
        "numbers = [302, 401, 418, 430, 529]\n",
        "numbers[0] = 1302\n",
        "numbers"
      ],
      "metadata": {
        "colab": {
          "base_uri": "https://localhost:8080/"
        },
        "id": "JM_5NgJR7I_x",
        "outputId": "da8797e5-43ea-4a6e-8b77-d7e0f084d836"
      },
      "execution_count": 70,
      "outputs": [
        {
          "output_type": "execute_result",
          "data": {
            "text/plain": [
              "[1302, 401, 418, 430, 529]"
            ]
          },
          "metadata": {},
          "execution_count": 70
        }
      ]
    },
    {
      "cell_type": "code",
      "source": [
        "numbers = [302, 401, 418, 430, 529]\n",
        "\n",
        "# 401을 제거한다.\n",
        "numbers.remove(401)\n",
        "numbers"
      ],
      "metadata": {
        "colab": {
          "base_uri": "https://localhost:8080/"
        },
        "id": "y-sq0IV99EH7",
        "outputId": "495f80e6-7f3c-480d-f7be-e3838cc820b6"
      },
      "execution_count": 75,
      "outputs": [
        {
          "output_type": "execute_result",
          "data": {
            "text/plain": [
              "[302, 418, 430, 529]"
            ]
          },
          "metadata": {},
          "execution_count": 75
        }
      ]
    },
    {
      "cell_type": "code",
      "source": [
        "numbers = [302, 401, 418, 430, 529]\n",
        "\n",
        "# 401을 제거한다.\n",
        "del numbers[1]\n",
        "numbers"
      ],
      "metadata": {
        "colab": {
          "base_uri": "https://localhost:8080/"
        },
        "id": "ey5tY8E09dUC",
        "outputId": "eff9a7b1-6786-4c48-8f96-44f9813446d2"
      },
      "execution_count": 76,
      "outputs": [
        {
          "output_type": "execute_result",
          "data": {
            "text/plain": [
              "[302, 418, 430, 529]"
            ]
          },
          "metadata": {},
          "execution_count": 76
        }
      ]
    },
    {
      "cell_type": "code",
      "source": [
        "# 튜플\n",
        "numbers = (302, 401, 418, 430, 529)\n",
        "numbers[0] = 1302\n",
        "numbers"
      ],
      "metadata": {
        "colab": {
          "base_uri": "https://localhost:8080/",
          "height": 200
        },
        "id": "CGqvGxJi7r5q",
        "outputId": "db82096e-44b2-42d3-d3bb-c2cbe33c5a7e"
      },
      "execution_count": 72,
      "outputs": [
        {
          "output_type": "error",
          "ename": "TypeError",
          "evalue": "'tuple' object does not support item assignment",
          "traceback": [
            "\u001b[0;31m---------------------------------------------------------------------------\u001b[0m",
            "\u001b[0;31mTypeError\u001b[0m                                 Traceback (most recent call last)",
            "\u001b[0;32m<ipython-input-72-ea6397840fd8>\u001b[0m in \u001b[0;36m<cell line: 3>\u001b[0;34m()\u001b[0m\n\u001b[1;32m      1\u001b[0m \u001b[0;31m# 튜플\u001b[0m\u001b[0;34m\u001b[0m\u001b[0;34m\u001b[0m\u001b[0m\n\u001b[1;32m      2\u001b[0m \u001b[0mnumbers\u001b[0m \u001b[0;34m=\u001b[0m \u001b[0;34m(\u001b[0m\u001b[0;36m302\u001b[0m\u001b[0;34m,\u001b[0m \u001b[0;36m401\u001b[0m\u001b[0;34m,\u001b[0m \u001b[0;36m418\u001b[0m\u001b[0;34m,\u001b[0m \u001b[0;36m430\u001b[0m\u001b[0;34m,\u001b[0m \u001b[0;36m529\u001b[0m\u001b[0;34m)\u001b[0m\u001b[0;34m\u001b[0m\u001b[0;34m\u001b[0m\u001b[0m\n\u001b[0;32m----> 3\u001b[0;31m \u001b[0mnumbers\u001b[0m\u001b[0;34m[\u001b[0m\u001b[0;36m0\u001b[0m\u001b[0;34m]\u001b[0m \u001b[0;34m=\u001b[0m \u001b[0;36m1302\u001b[0m\u001b[0;34m\u001b[0m\u001b[0;34m\u001b[0m\u001b[0m\n\u001b[0m\u001b[1;32m      4\u001b[0m \u001b[0mnumbers\u001b[0m\u001b[0;34m\u001b[0m\u001b[0;34m\u001b[0m\u001b[0m\n",
            "\u001b[0;31mTypeError\u001b[0m: 'tuple' object does not support item assignment"
          ]
        }
      ]
    },
    {
      "cell_type": "code",
      "source": [
        "my_dic = {\n",
        "    'key1' : 'value',\n",
        "    'key2' : '모든 자료형'\n",
        "}"
      ],
      "metadata": {
        "id": "NXBjFsct8qp_"
      },
      "execution_count": 77,
      "outputs": []
    },
    {
      "cell_type": "code",
      "source": [
        "my_dic = {\n",
        "    \"name\" : \"evan\",\n",
        "    \"age\" : 20,\n",
        "    \"job\" : \"강사\",\n",
        "    \"쇼핑목록\" : [0, 1, 2, [\"Python\", \"Hello\"], 3, 4, 5],\n",
        "    \"그외\" : (1, 2, 3),\n",
        "    \"그외2\" : {\"key\" : \"value\"}\n",
        "}\n",
        "\n",
        "my_dic"
      ],
      "metadata": {
        "colab": {
          "base_uri": "https://localhost:8080/"
        },
        "id": "G566Rw4Y-3f7",
        "outputId": "36932d92-fb34-442a-e8d0-064096f63c1c"
      },
      "execution_count": 83,
      "outputs": [
        {
          "output_type": "execute_result",
          "data": {
            "text/plain": [
              "{'name': 'evan',\n",
              " 'age': 20,\n",
              " 'job': '강사',\n",
              " '쇼핑목록': [0, 1, 2, ['Python', 'Hello'], 3, 4, 5],\n",
              " '그외': (1, 2, 3),\n",
              " '그외2': {'key': 'value'}}"
            ]
          },
          "metadata": {},
          "execution_count": 83
        }
      ]
    },
    {
      "cell_type": "code",
      "source": [
        "my_dic['쇼핑목록'][3][1][4]"
      ],
      "metadata": {
        "colab": {
          "base_uri": "https://localhost:8080/",
          "height": 35
        },
        "id": "qlsSnLIX_Qwn",
        "outputId": "f261918d-857c-475d-b3f3-ecded4d32102"
      },
      "execution_count": 85,
      "outputs": [
        {
          "output_type": "execute_result",
          "data": {
            "text/plain": [
              "'o'"
            ],
            "application/vnd.google.colaboratory.intrinsic+json": {
              "type": "string"
            }
          },
          "metadata": {},
          "execution_count": 85
        }
      ]
    },
    {
      "cell_type": "code",
      "source": [
        "my_dic['기타'] = '아무거나'\n",
        "my_dic"
      ],
      "metadata": {
        "colab": {
          "base_uri": "https://localhost:8080/"
        },
        "id": "NgafpXBG_fBM",
        "outputId": "cf17474f-bca8-4583-b8e3-5145677420a3"
      },
      "execution_count": 86,
      "outputs": [
        {
          "output_type": "execute_result",
          "data": {
            "text/plain": [
              "{'name': 'evan',\n",
              " 'age': 20,\n",
              " 'job': '강사',\n",
              " '쇼핑목록': [0, 1, 2, ['Python', 'Hello'], 3, 4, 5],\n",
              " '그외': (1, 2, 3),\n",
              " '그외2': {'key': 'value'},\n",
              " '기타': '아무거나'}"
            ]
          },
          "metadata": {},
          "execution_count": 86
        }
      ]
    },
    {
      "cell_type": "code",
      "source": [
        "my_dic['쇼핑목록'] = ['맥북','아이패드']\n",
        "my_dic"
      ],
      "metadata": {
        "colab": {
          "base_uri": "https://localhost:8080/"
        },
        "id": "7FKVGiKBAs0Y",
        "outputId": "311a98c3-5214-491c-f170-c45f4c864716"
      },
      "execution_count": 87,
      "outputs": [
        {
          "output_type": "execute_result",
          "data": {
            "text/plain": [
              "{'name': 'evan',\n",
              " 'age': 20,\n",
              " 'job': '강사',\n",
              " '쇼핑목록': ['맥북', '아이패드'],\n",
              " '그외': (1, 2, 3),\n",
              " '그외2': {'key': 'value'},\n",
              " '기타': '아무거나'}"
            ]
          },
          "metadata": {},
          "execution_count": 87
        }
      ]
    },
    {
      "cell_type": "code",
      "source": [
        "my_dic.keys()"
      ],
      "metadata": {
        "colab": {
          "base_uri": "https://localhost:8080/"
        },
        "id": "tAwFW2o_BA-W",
        "outputId": "5219557a-b126-4471-fbe1-d52aaac5c971"
      },
      "execution_count": 88,
      "outputs": [
        {
          "output_type": "execute_result",
          "data": {
            "text/plain": [
              "dict_keys(['name', 'age', 'job', '쇼핑목록', '그외', '그외2', '기타'])"
            ]
          },
          "metadata": {},
          "execution_count": 88
        }
      ]
    },
    {
      "cell_type": "code",
      "source": [
        "my_dic.values()"
      ],
      "metadata": {
        "colab": {
          "base_uri": "https://localhost:8080/"
        },
        "id": "skeBJ72VBPnP",
        "outputId": "fc8fb7f2-b253-43c9-caa7-7d1b073b7f64"
      },
      "execution_count": 89,
      "outputs": [
        {
          "output_type": "execute_result",
          "data": {
            "text/plain": [
              "dict_values(['evan', 20, '강사', ['맥북', '아이패드'], (1, 2, 3), {'key': 'value'}, '아무거나'])"
            ]
          },
          "metadata": {},
          "execution_count": 89
        }
      ]
    },
    {
      "cell_type": "code",
      "source": [
        "my_dic.items()"
      ],
      "metadata": {
        "colab": {
          "base_uri": "https://localhost:8080/"
        },
        "id": "VvrR8vHCBSH0",
        "outputId": "fbbe0e1b-d744-4c5f-e634-7f17bcdda920"
      },
      "execution_count": 90,
      "outputs": [
        {
          "output_type": "execute_result",
          "data": {
            "text/plain": [
              "dict_items([('name', 'evan'), ('age', 20), ('job', '강사'), ('쇼핑목록', ['맥북', '아이패드']), ('그외', (1, 2, 3)), ('그외2', {'key': 'value'}), ('기타', '아무거나')])"
            ]
          },
          "metadata": {},
          "execution_count": 90
        }
      ]
    },
    {
      "cell_type": "markdown",
      "source": [
        "## 문자열 포매팅"
      ],
      "metadata": {
        "id": "s8F4IpNEFbOp"
      }
    },
    {
      "cell_type": "code",
      "source": [
        "# 숫자 바로 대입\n",
        "\"I eat %d apples.\" %3"
      ],
      "metadata": {
        "colab": {
          "base_uri": "https://localhost:8080/",
          "height": 35
        },
        "id": "InO9IpFbF5vG",
        "outputId": "9e6442bd-6d4a-421b-cfae-fbc0d930effb"
      },
      "execution_count": 92,
      "outputs": [
        {
          "output_type": "execute_result",
          "data": {
            "text/plain": [
              "'I eat 3 apples.'"
            ],
            "application/vnd.google.colaboratory.intrinsic+json": {
              "type": "string"
            }
          },
          "metadata": {},
          "execution_count": 92
        }
      ]
    },
    {
      "cell_type": "code",
      "source": [
        "\n",
        "\"I eat %s apples\" %\"five\""
      ],
      "metadata": {
        "colab": {
          "base_uri": "https://localhost:8080/",
          "height": 35
        },
        "id": "U5HMQyeFGqge",
        "outputId": "add5d74a-b85c-484c-832b-423bb4b2d386"
      },
      "execution_count": 93,
      "outputs": [
        {
          "output_type": "execute_result",
          "data": {
            "text/plain": [
              "'I eat five apples'"
            ],
            "application/vnd.google.colaboratory.intrinsic+json": {
              "type": "string"
            }
          },
          "metadata": {},
          "execution_count": 93
        }
      ]
    },
    {
      "cell_type": "code",
      "source": [],
      "metadata": {
        "id": "Hg8ndMD4HoEp"
      },
      "execution_count": null,
      "outputs": []
    }
  ],
  "metadata": {
    "colab": {
      "provenance": [],
      "include_colab_link": true
    },
    "kernelspec": {
      "display_name": "Python 3 (ipykernel)",
      "language": "python",
      "name": "python3"
    },
    "language_info": {
      "codemirror_mode": {
        "name": "ipython",
        "version": 3
      },
      "file_extension": ".py",
      "mimetype": "text/x-python",
      "name": "python",
      "nbconvert_exporter": "python",
      "pygments_lexer": "ipython3",
      "version": "3.12.6"
    }
  },
  "nbformat": 4,
  "nbformat_minor": 0
}